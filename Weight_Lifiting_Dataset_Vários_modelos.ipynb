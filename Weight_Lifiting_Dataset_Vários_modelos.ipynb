{
  "nbformat": 4,
  "nbformat_minor": 0,
  "metadata": {
    "colab": {
      "name": "Weight Lifiting Dataset - Vários modelos ",
      "provenance": [],
      "collapsed_sections": [],
      "include_colab_link": true
    },
    "kernelspec": {
      "name": "python3",
      "display_name": "Python 3"
    }
  },
  "cells": [
    {
      "cell_type": "markdown",
      "metadata": {
        "id": "view-in-github",
        "colab_type": "text"
      },
      "source": [
        "<a href=\"https://colab.research.google.com/github/silveiraluiza/machine-learning/blob/main/Weight_Lifiting_Dataset_V%C3%A1rios_modelos.ipynb\" target=\"_parent\"><img src=\"https://colab.research.google.com/assets/colab-badge.svg\" alt=\"Open In Colab\"/></a>"
      ]
    },
    {
      "cell_type": "markdown",
      "metadata": {
        "id": "s82KQXMSm27W"
      },
      "source": [
        "**UNIVERSIDADE FEDERAL DE PERNAMBUCO\n",
        "CENTRO DE INFORMÁTICA\n",
        "PROGRAMA DE PÓS-GRADUAÇÃO EM CIÊNCIA DA COMPUTAÇÃO\n",
        "DISCIPLINA: APRENDIZAGEM DE MÁQUINA**\n",
        "\n",
        "- Luiza Carvalho Silveira (lcs11@cin.ufpe.br)\n",
        "- Andersson Alves da Silva (aas9@cin.ufpe.br)\n",
        "- Emerson Lima do Nascimento (eln3@cin.ufpe.br)\n"
      ]
    },
    {
      "cell_type": "markdown",
      "metadata": {
        "id": "4eP3usO6nBtB"
      },
      "source": [
        "**Dados Desbalanceados e redução de dimensionalidade - Realizar o tratamento dos dados da base Weight Lifting Exercises com respeito ao desbalanceamento e redução de dimensionalidade?**\n",
        "- Considerar a base de dados Weight Lifting Exercises (https://archive.ics.uci.edu/ml/datasets/Weight+Lifting+Exercises+monitored+with+Inertial+Measurement+Units) para a realização de experimentos visando definir uma abordagem de tratamento de dados desbalanceados e redução da dimensionalidade de modo a melhorar o desempenho de generalização do modelo.  Desse modo, é importante considerar a base original (sem tratamento de dados desbalanceados e redução de dimensionalidade) para uma primeira rodada de experimentos.\n",
        "Será necessário realizar todas as etapas de exploração, pré-processamento e adoção do k-fold 5x2. Considerar todos os modelos de classificação já vistos na disciplina e apenas um ensemble, o Random Forest. Realizar ajuste de parâmetros dos modelos de classificação. Apresentar relatório com discussão a respeito dos resultados obtidos.\n"
      ]
    },
    {
      "cell_type": "markdown",
      "metadata": {
        "id": "1n8Ms34tnONM"
      },
      "source": [
        "## LINK DO RELATÓRIO EM PDF:\n",
        "https://drive.google.com/file/d/1-tUKx8Zp4TJEfXsWTd2_Zy_WkxmMVRpU/view?usp=sharing"
      ]
    },
    {
      "cell_type": "markdown",
      "metadata": {
        "id": "hE1PLfmHfXHK"
      },
      "source": [
        "### LINK DO RELATÓRIO EM PDF: https://drive.google.com/file/d/1-tUKx8Zp4TJEfXsWTd2_Zy_WkxmMVRpU/view?usp=sharing"
      ]
    },
    {
      "cell_type": "code",
      "metadata": {
        "id": "gQyDFhYCpXrh",
        "colab": {
          "base_uri": "https://localhost:8080/",
          "height": 34
        },
        "outputId": "bce25cd6-ca0b-420e-adb8-5cd66fb45141"
      },
      "source": [
        "import pandas as pd\n",
        "import numpy as np\n",
        "from google.colab import drive\n",
        "import matplotlib.pyplot as plt\n",
        "import seaborn as sns\n",
        "from collections import Counter\n",
        "from sklearn.preprocessing import LabelEncoder\n",
        "from sklearn.model_selection import cross_val_score\n",
        "from sklearn.model_selection import RepeatedStratifiedKFold\n",
        "from sklearn import svm\n",
        "from sklearn.model_selection import train_test_split\n",
        "from sklearn.utils import shuffle\n",
        "from math import sqrt\n",
        "import xgboost as xgb\n",
        "\n",
        "from sklearn.metrics import classification_report, confusion_matrix\n",
        "from sklearn import metrics\n",
        "from sklearn import preprocessing\n",
        "from sklearn.neighbors import KNeighborsClassifier\n",
        "from sklearn.ensemble import StackingClassifier\n",
        "from sklearn.ensemble import RandomForestClassifier\n",
        "from sklearn.linear_model import LogisticRegression\n",
        "from sklearn.preprocessing import StandardScaler\n",
        "\n",
        "\n",
        "drive.mount('/content/gdrive')"
      ],
      "execution_count": null,
      "outputs": [
        {
          "output_type": "stream",
          "text": [
            "Drive already mounted at /content/gdrive; to attempt to forcibly remount, call drive.mount(\"/content/gdrive\", force_remount=True).\n"
          ],
          "name": "stdout"
        }
      ]
    },
    {
      "cell_type": "markdown",
      "metadata": {
        "id": "hlQQDmYvqlk_"
      },
      "source": [
        "## Importando e Explorando os Dados"
      ]
    },
    {
      "cell_type": "code",
      "metadata": {
        "id": "WwDTp7FIqfG1",
        "colab": {
          "base_uri": "https://localhost:8080/",
          "height": 34
        },
        "outputId": "3f025bb5-7915-4ff5-a4af-56416b3ada31"
      },
      "source": [
        "data = pd.read_csv('/content/gdrive/My Drive/data/Cpt_weight_lifting_exercises_biceps_curl_variations.csv', sep=',')\n",
        "\n",
        "# Visualização dos dados \n",
        "print(data.shape)\n",
        "data.head(10)\n",
        "\n",
        "# Deletando informações que possivelmente não irão contribuir para o modelo (informações de data)\n",
        "data = data.drop([\"cvtd_timestamp\",\"raw_timestamp_part_1\", \"raw_timestamp_part_2\"],1)"
      ],
      "execution_count": null,
      "outputs": [
        {
          "output_type": "stream",
          "text": [
            "(4024, 159)\n"
          ],
          "name": "stdout"
        }
      ]
    },
    {
      "cell_type": "markdown",
      "metadata": {
        "id": "fzV3TCvpyfzZ"
      },
      "source": [
        "### Média, desvio padrão, min, max e quartis de todas as variáveis numéricas\n"
      ]
    },
    {
      "cell_type": "code",
      "metadata": {
        "id": "SyrPh9vTt_ye",
        "colab": {
          "base_uri": "https://localhost:8080/",
          "height": 346
        },
        "outputId": "11722666-e0f8-4e09-a414-d915b7b18c77"
      },
      "source": [
        "data.describe() "
      ],
      "execution_count": null,
      "outputs": [
        {
          "output_type": "execute_result",
          "data": {
            "text/html": [
              "<div>\n",
              "<style scoped>\n",
              "    .dataframe tbody tr th:only-of-type {\n",
              "        vertical-align: middle;\n",
              "    }\n",
              "\n",
              "    .dataframe tbody tr th {\n",
              "        vertical-align: top;\n",
              "    }\n",
              "\n",
              "    .dataframe thead th {\n",
              "        text-align: right;\n",
              "    }\n",
              "</style>\n",
              "<table border=\"1\" class=\"dataframe\">\n",
              "  <thead>\n",
              "    <tr style=\"text-align: right;\">\n",
              "      <th></th>\n",
              "      <th>num_window</th>\n",
              "      <th>roll_belt</th>\n",
              "      <th>pitch_belt</th>\n",
              "      <th>yaw_belt</th>\n",
              "      <th>total_accel_belt</th>\n",
              "      <th>max_roll_belt</th>\n",
              "      <th>max_picth_belt</th>\n",
              "      <th>max_yaw_belt</th>\n",
              "      <th>min_roll_belt</th>\n",
              "      <th>min_pitch_belt</th>\n",
              "      <th>min_yaw_belt</th>\n",
              "      <th>amplitude_pitch_belt</th>\n",
              "      <th>amplitude_yaw_belt</th>\n",
              "      <th>var_total_accel_belt</th>\n",
              "      <th>avg_roll_belt</th>\n",
              "      <th>stddev_roll_belt</th>\n",
              "      <th>var_roll_belt</th>\n",
              "      <th>avg_pitch_belt</th>\n",
              "      <th>stddev_pitch_belt</th>\n",
              "      <th>var_pitch_belt</th>\n",
              "      <th>avg_yaw_belt</th>\n",
              "      <th>stddev_yaw_belt</th>\n",
              "      <th>var_yaw_belt</th>\n",
              "      <th>gyros_belt_x</th>\n",
              "      <th>gyros_belt_y</th>\n",
              "      <th>gyros_belt_z</th>\n",
              "      <th>accel_belt_x</th>\n",
              "      <th>accel_belt_y</th>\n",
              "      <th>accel_belt_z</th>\n",
              "      <th>magnet_belt_x</th>\n",
              "      <th>magnet_belt_y</th>\n",
              "      <th>magnet_belt_z</th>\n",
              "      <th>roll_arm</th>\n",
              "      <th>pitch_arm</th>\n",
              "      <th>yaw_arm</th>\n",
              "      <th>total_accel_arm</th>\n",
              "      <th>avg_pitch_arm</th>\n",
              "      <th>stddev_pitch_arm</th>\n",
              "      <th>gyros_arm_x</th>\n",
              "      <th>gyros_arm_y</th>\n",
              "      <th>...</th>\n",
              "      <th>max_picth_dumbbell</th>\n",
              "      <th>max_yaw_dumbbell</th>\n",
              "      <th>min_roll_dumbbell</th>\n",
              "      <th>min_pitch_dumbbell</th>\n",
              "      <th>min_yaw_dumbbell</th>\n",
              "      <th>amplitude_roll_dumbbell</th>\n",
              "      <th>amplitude_pitch_dumbbell</th>\n",
              "      <th>amplitude_yaw_dumbbell</th>\n",
              "      <th>total_accel_dumbbell</th>\n",
              "      <th>avg_pitch_dumbbell</th>\n",
              "      <th>stddev_pitch_dumbbell</th>\n",
              "      <th>stddev_yaw_dumbbell</th>\n",
              "      <th>gyros_dumbbell_x</th>\n",
              "      <th>gyros_dumbbell_y</th>\n",
              "      <th>gyros_dumbbell_z</th>\n",
              "      <th>accel_dumbbell_x</th>\n",
              "      <th>accel_dumbbell_y</th>\n",
              "      <th>accel_dumbbell_z</th>\n",
              "      <th>magnet_dumbbell_x</th>\n",
              "      <th>magnet_dumbbell_y</th>\n",
              "      <th>magnet_dumbbell_z</th>\n",
              "      <th>roll_forearm</th>\n",
              "      <th>pitch_forearm</th>\n",
              "      <th>yaw_forearm</th>\n",
              "      <th>max_roll_forearm</th>\n",
              "      <th>max_picth_forearm</th>\n",
              "      <th>min_roll_forearm</th>\n",
              "      <th>min_pitch_forearm</th>\n",
              "      <th>amplitude_roll_forearm</th>\n",
              "      <th>amplitude_pitch_forearm</th>\n",
              "      <th>total_accel_forearm</th>\n",
              "      <th>gyros_forearm_x</th>\n",
              "      <th>gyros_forearm_y</th>\n",
              "      <th>gyros_forearm_z</th>\n",
              "      <th>accel_forearm_x</th>\n",
              "      <th>accel_forearm_y</th>\n",
              "      <th>accel_forearm_z</th>\n",
              "      <th>magnet_forearm_x</th>\n",
              "      <th>magnet_forearm_y</th>\n",
              "      <th>magnet_forearm_z</th>\n",
              "    </tr>\n",
              "  </thead>\n",
              "  <tbody>\n",
              "    <tr>\n",
              "      <th>count</th>\n",
              "      <td>4024.000000</td>\n",
              "      <td>4024.000000</td>\n",
              "      <td>4024.000000</td>\n",
              "      <td>4024.000000</td>\n",
              "      <td>4024.000000</td>\n",
              "      <td>88.000000</td>\n",
              "      <td>88.000000</td>\n",
              "      <td>88.000000</td>\n",
              "      <td>88.000000</td>\n",
              "      <td>88.000000</td>\n",
              "      <td>88.000000</td>\n",
              "      <td>88.000000</td>\n",
              "      <td>88.0</td>\n",
              "      <td>88.000000</td>\n",
              "      <td>88.000000</td>\n",
              "      <td>88.000000</td>\n",
              "      <td>88.000000</td>\n",
              "      <td>88.000000</td>\n",
              "      <td>88.000000</td>\n",
              "      <td>88.000000</td>\n",
              "      <td>88.000000</td>\n",
              "      <td>88.000000</td>\n",
              "      <td>88.000000</td>\n",
              "      <td>4024.000000</td>\n",
              "      <td>4024.000000</td>\n",
              "      <td>4024.000000</td>\n",
              "      <td>4024.000000</td>\n",
              "      <td>4024.000000</td>\n",
              "      <td>4024.000000</td>\n",
              "      <td>4024.000000</td>\n",
              "      <td>4024.000000</td>\n",
              "      <td>4024.000000</td>\n",
              "      <td>4024.000000</td>\n",
              "      <td>4024.000000</td>\n",
              "      <td>4024.000000</td>\n",
              "      <td>4024.000000</td>\n",
              "      <td>88.000000</td>\n",
              "      <td>88.000000</td>\n",
              "      <td>4024.000000</td>\n",
              "      <td>4024.000000</td>\n",
              "      <td>...</td>\n",
              "      <td>88.000000</td>\n",
              "      <td>88.000000</td>\n",
              "      <td>88.000000</td>\n",
              "      <td>88.000000</td>\n",
              "      <td>88.000000</td>\n",
              "      <td>88.000000</td>\n",
              "      <td>88.000000</td>\n",
              "      <td>88.0</td>\n",
              "      <td>4024.000000</td>\n",
              "      <td>88.000000</td>\n",
              "      <td>88.000000</td>\n",
              "      <td>88.000000</td>\n",
              "      <td>4024.000000</td>\n",
              "      <td>4024.000000</td>\n",
              "      <td>4024.000000</td>\n",
              "      <td>4024.000000</td>\n",
              "      <td>4024.000000</td>\n",
              "      <td>4024.000000</td>\n",
              "      <td>4024.000000</td>\n",
              "      <td>4024.000000</td>\n",
              "      <td>4024.000000</td>\n",
              "      <td>4024.000000</td>\n",
              "      <td>4024.000000</td>\n",
              "      <td>4024.000000</td>\n",
              "      <td>88.000000</td>\n",
              "      <td>88.000000</td>\n",
              "      <td>88.000000</td>\n",
              "      <td>88.000000</td>\n",
              "      <td>88.000000</td>\n",
              "      <td>88.000000</td>\n",
              "      <td>4024.000000</td>\n",
              "      <td>4024.000000</td>\n",
              "      <td>4024.000000</td>\n",
              "      <td>4024.000000</td>\n",
              "      <td>4024.000000</td>\n",
              "      <td>4024.000000</td>\n",
              "      <td>4024.000000</td>\n",
              "      <td>4024.000000</td>\n",
              "      <td>4024.000000</td>\n",
              "      <td>4024.000000</td>\n",
              "    </tr>\n",
              "    <tr>\n",
              "      <th>mean</th>\n",
              "      <td>46.327535</td>\n",
              "      <td>73.308342</td>\n",
              "      <td>14.158009</td>\n",
              "      <td>-30.974709</td>\n",
              "      <td>12.767644</td>\n",
              "      <td>-28.148864</td>\n",
              "      <td>14.068182</td>\n",
              "      <td>-0.619318</td>\n",
              "      <td>-34.126136</td>\n",
              "      <td>11.443182</td>\n",
              "      <td>-0.619318</td>\n",
              "      <td>4.954545</td>\n",
              "      <td>0.0</td>\n",
              "      <td>0.978409</td>\n",
              "      <td>72.630682</td>\n",
              "      <td>1.773864</td>\n",
              "      <td>8.906818</td>\n",
              "      <td>13.987500</td>\n",
              "      <td>0.682955</td>\n",
              "      <td>1.415909</td>\n",
              "      <td>-30.773864</td>\n",
              "      <td>2.454545</td>\n",
              "      <td>303.176477</td>\n",
              "      <td>-0.182284</td>\n",
              "      <td>-0.008837</td>\n",
              "      <td>-0.246446</td>\n",
              "      <td>-24.362823</td>\n",
              "      <td>39.843688</td>\n",
              "      <td>-94.726143</td>\n",
              "      <td>24.645378</td>\n",
              "      <td>582.653827</td>\n",
              "      <td>-340.861829</td>\n",
              "      <td>40.005241</td>\n",
              "      <td>-10.538844</td>\n",
              "      <td>2.768096</td>\n",
              "      <td>24.885437</td>\n",
              "      <td>-99.414168</td>\n",
              "      <td>100.018380</td>\n",
              "      <td>-0.185169</td>\n",
              "      <td>-0.181769</td>\n",
              "      <td>...</td>\n",
              "      <td>88.104545</td>\n",
              "      <td>0.330682</td>\n",
              "      <td>-27.514773</td>\n",
              "      <td>15.459091</td>\n",
              "      <td>0.330682</td>\n",
              "      <td>61.786023</td>\n",
              "      <td>72.648636</td>\n",
              "      <td>0.0</td>\n",
              "      <td>12.019384</td>\n",
              "      <td>27.402840</td>\n",
              "      <td>125.501216</td>\n",
              "      <td>161.181998</td>\n",
              "      <td>0.248685</td>\n",
              "      <td>-0.046737</td>\n",
              "      <td>-0.133658</td>\n",
              "      <td>-7.091203</td>\n",
              "      <td>12.833499</td>\n",
              "      <td>16.633946</td>\n",
              "      <td>10.545229</td>\n",
              "      <td>-115.719433</td>\n",
              "      <td>-41.122266</td>\n",
              "      <td>36.095527</td>\n",
              "      <td>18.565331</td>\n",
              "      <td>17.789836</td>\n",
              "      <td>33.587500</td>\n",
              "      <td>111.809091</td>\n",
              "      <td>3.005682</td>\n",
              "      <td>-81.850000</td>\n",
              "      <td>30.577841</td>\n",
              "      <td>193.659091</td>\n",
              "      <td>34.375000</td>\n",
              "      <td>0.107614</td>\n",
              "      <td>-0.004108</td>\n",
              "      <td>0.093022</td>\n",
              "      <td>-6.444583</td>\n",
              "      <td>171.466203</td>\n",
              "      <td>-162.968936</td>\n",
              "      <td>-348.663767</td>\n",
              "      <td>358.638668</td>\n",
              "      <td>475.231113</td>\n",
              "    </tr>\n",
              "    <tr>\n",
              "      <th>std</th>\n",
              "      <td>25.709134</td>\n",
              "      <td>62.207339</td>\n",
              "      <td>18.766999</td>\n",
              "      <td>64.663731</td>\n",
              "      <td>8.193013</td>\n",
              "      <td>67.614596</td>\n",
              "      <td>8.091141</td>\n",
              "      <td>1.530972</td>\n",
              "      <td>64.781780</td>\n",
              "      <td>8.234854</td>\n",
              "      <td>1.530972</td>\n",
              "      <td>22.198948</td>\n",
              "      <td>0.0</td>\n",
              "      <td>2.196625</td>\n",
              "      <td>62.669946</td>\n",
              "      <td>2.415253</td>\n",
              "      <td>17.616194</td>\n",
              "      <td>18.995068</td>\n",
              "      <td>0.972994</td>\n",
              "      <td>5.178357</td>\n",
              "      <td>63.670368</td>\n",
              "      <td>17.333907</td>\n",
              "      <td>2836.585462</td>\n",
              "      <td>0.318171</td>\n",
              "      <td>0.057817</td>\n",
              "      <td>0.289511</td>\n",
              "      <td>25.528431</td>\n",
              "      <td>33.001362</td>\n",
              "      <td>95.787395</td>\n",
              "      <td>78.368320</td>\n",
              "      <td>29.340251</td>\n",
              "      <td>92.032207</td>\n",
              "      <td>101.331148</td>\n",
              "      <td>30.295532</td>\n",
              "      <td>91.373605</td>\n",
              "      <td>12.543835</td>\n",
              "      <td>257.817549</td>\n",
              "      <td>113.281495</td>\n",
              "      <td>2.193637</td>\n",
              "      <td>1.047446</td>\n",
              "      <td>...</td>\n",
              "      <td>77.668685</td>\n",
              "      <td>1.716275</td>\n",
              "      <td>37.852468</td>\n",
              "      <td>74.815535</td>\n",
              "      <td>1.716275</td>\n",
              "      <td>42.128770</td>\n",
              "      <td>54.724632</td>\n",
              "      <td>0.0</td>\n",
              "      <td>9.064802</td>\n",
              "      <td>319.276586</td>\n",
              "      <td>126.896019</td>\n",
              "      <td>171.756784</td>\n",
              "      <td>0.404754</td>\n",
              "      <td>0.700889</td>\n",
              "      <td>0.362490</td>\n",
              "      <td>76.384237</td>\n",
              "      <td>74.456931</td>\n",
              "      <td>99.056252</td>\n",
              "      <td>473.835454</td>\n",
              "      <td>473.677981</td>\n",
              "      <td>98.242581</td>\n",
              "      <td>119.143946</td>\n",
              "      <td>33.386175</td>\n",
              "      <td>112.954220</td>\n",
              "      <td>40.378442</td>\n",
              "      <td>98.986190</td>\n",
              "      <td>25.799209</td>\n",
              "      <td>122.138705</td>\n",
              "      <td>24.252085</td>\n",
              "      <td>169.403251</td>\n",
              "      <td>6.708725</td>\n",
              "      <td>0.540884</td>\n",
              "      <td>2.267832</td>\n",
              "      <td>0.735418</td>\n",
              "      <td>133.487861</td>\n",
              "      <td>193.468617</td>\n",
              "      <td>80.826582</td>\n",
              "      <td>265.421967</td>\n",
              "      <td>520.255942</td>\n",
              "      <td>293.009818</td>\n",
              "    </tr>\n",
              "    <tr>\n",
              "      <th>min</th>\n",
              "      <td>1.000000</td>\n",
              "      <td>-28.900000</td>\n",
              "      <td>-56.200000</td>\n",
              "      <td>-179.000000</td>\n",
              "      <td>0.000000</td>\n",
              "      <td>-94.400000</td>\n",
              "      <td>3.000000</td>\n",
              "      <td>-3.300000</td>\n",
              "      <td>-179.000000</td>\n",
              "      <td>0.000000</td>\n",
              "      <td>-3.300000</td>\n",
              "      <td>0.000000</td>\n",
              "      <td>0.0</td>\n",
              "      <td>0.000000</td>\n",
              "      <td>-27.400000</td>\n",
              "      <td>0.000000</td>\n",
              "      <td>0.000000</td>\n",
              "      <td>-49.400000</td>\n",
              "      <td>0.000000</td>\n",
              "      <td>0.000000</td>\n",
              "      <td>-94.400000</td>\n",
              "      <td>0.000000</td>\n",
              "      <td>0.000000</td>\n",
              "      <td>-0.790000</td>\n",
              "      <td>-0.470000</td>\n",
              "      <td>-0.770000</td>\n",
              "      <td>-120.000000</td>\n",
              "      <td>-71.000000</td>\n",
              "      <td>-244.000000</td>\n",
              "      <td>-30.000000</td>\n",
              "      <td>428.000000</td>\n",
              "      <td>-513.000000</td>\n",
              "      <td>-180.000000</td>\n",
              "      <td>-87.100000</td>\n",
              "      <td>-180.000000</td>\n",
              "      <td>1.000000</td>\n",
              "      <td>-572.886000</td>\n",
              "      <td>0.000000</td>\n",
              "      <td>-5.200000</td>\n",
              "      <td>-3.440000</td>\n",
              "      <td>...</td>\n",
              "      <td>-84.500000</td>\n",
              "      <td>-2.100000</td>\n",
              "      <td>-134.700000</td>\n",
              "      <td>-129.300000</td>\n",
              "      <td>-2.100000</td>\n",
              "      <td>0.000000</td>\n",
              "      <td>0.000000</td>\n",
              "      <td>0.0</td>\n",
              "      <td>1.000000</td>\n",
              "      <td>-709.158000</td>\n",
              "      <td>0.000000</td>\n",
              "      <td>0.000000</td>\n",
              "      <td>-1.430000</td>\n",
              "      <td>-2.040000</td>\n",
              "      <td>-1.460000</td>\n",
              "      <td>-237.000000</td>\n",
              "      <td>-163.000000</td>\n",
              "      <td>-273.000000</td>\n",
              "      <td>-638.000000</td>\n",
              "      <td>-730.000000</td>\n",
              "      <td>-262.000000</td>\n",
              "      <td>-180.000000</td>\n",
              "      <td>-64.000000</td>\n",
              "      <td>-180.000000</td>\n",
              "      <td>-63.900000</td>\n",
              "      <td>-152.000000</td>\n",
              "      <td>-64.000000</td>\n",
              "      <td>-180.000000</td>\n",
              "      <td>0.000000</td>\n",
              "      <td>0.000000</td>\n",
              "      <td>10.000000</td>\n",
              "      <td>-1.880000</td>\n",
              "      <td>-5.730000</td>\n",
              "      <td>-2.580000</td>\n",
              "      <td>-328.000000</td>\n",
              "      <td>-467.000000</td>\n",
              "      <td>-366.000000</td>\n",
              "      <td>-1160.000000</td>\n",
              "      <td>-725.000000</td>\n",
              "      <td>-876.000000</td>\n",
              "    </tr>\n",
              "    <tr>\n",
              "      <th>25%</th>\n",
              "      <td>24.000000</td>\n",
              "      <td>1.380000</td>\n",
              "      <td>6.220000</td>\n",
              "      <td>-93.100000</td>\n",
              "      <td>3.000000</td>\n",
              "      <td>-92.200000</td>\n",
              "      <td>5.000000</td>\n",
              "      <td>-1.400000</td>\n",
              "      <td>-93.300000</td>\n",
              "      <td>2.000000</td>\n",
              "      <td>-1.400000</td>\n",
              "      <td>1.200000</td>\n",
              "      <td>0.0</td>\n",
              "      <td>0.200000</td>\n",
              "      <td>1.350000</td>\n",
              "      <td>0.300000</td>\n",
              "      <td>0.100000</td>\n",
              "      <td>6.100000</td>\n",
              "      <td>0.200000</td>\n",
              "      <td>0.000000</td>\n",
              "      <td>-92.900000</td>\n",
              "      <td>0.200000</td>\n",
              "      <td>0.030000</td>\n",
              "      <td>-0.430000</td>\n",
              "      <td>-0.030000</td>\n",
              "      <td>-0.460000</td>\n",
              "      <td>-42.000000</td>\n",
              "      <td>4.000000</td>\n",
              "      <td>-176.000000</td>\n",
              "      <td>-3.000000</td>\n",
              "      <td>577.000000</td>\n",
              "      <td>-379.000000</td>\n",
              "      <td>-34.400000</td>\n",
              "      <td>-32.200000</td>\n",
              "      <td>-59.675000</td>\n",
              "      <td>15.000000</td>\n",
              "      <td>-293.701750</td>\n",
              "      <td>6.302975</td>\n",
              "      <td>-2.092500</td>\n",
              "      <td>-0.920000</td>\n",
              "      <td>...</td>\n",
              "      <td>58.975000</td>\n",
              "      <td>-0.700000</td>\n",
              "      <td>-57.025000</td>\n",
              "      <td>-39.475000</td>\n",
              "      <td>-0.700000</td>\n",
              "      <td>34.080000</td>\n",
              "      <td>31.070000</td>\n",
              "      <td>0.0</td>\n",
              "      <td>6.000000</td>\n",
              "      <td>-100.137500</td>\n",
              "      <td>7.475125</td>\n",
              "      <td>6.987450</td>\n",
              "      <td>-0.020000</td>\n",
              "      <td>-0.270000</td>\n",
              "      <td>-0.330000</td>\n",
              "      <td>-6.000000</td>\n",
              "      <td>-28.000000</td>\n",
              "      <td>12.000000</td>\n",
              "      <td>-515.000000</td>\n",
              "      <td>-544.000000</td>\n",
              "      <td>-101.000000</td>\n",
              "      <td>-115.000000</td>\n",
              "      <td>0.000000</td>\n",
              "      <td>-106.000000</td>\n",
              "      <td>3.475000</td>\n",
              "      <td>105.750000</td>\n",
              "      <td>-2.825000</td>\n",
              "      <td>-177.000000</td>\n",
              "      <td>2.690000</td>\n",
              "      <td>3.750000</td>\n",
              "      <td>30.000000</td>\n",
              "      <td>-0.140000</td>\n",
              "      <td>-1.780000</td>\n",
              "      <td>-0.310000</td>\n",
              "      <td>-117.000000</td>\n",
              "      <td>75.750000</td>\n",
              "      <td>-210.000000</td>\n",
              "      <td>-589.000000</td>\n",
              "      <td>-76.000000</td>\n",
              "      <td>370.750000</td>\n",
              "    </tr>\n",
              "    <tr>\n",
              "      <th>50%</th>\n",
              "      <td>46.000000</td>\n",
              "      <td>122.000000</td>\n",
              "      <td>25.500000</td>\n",
              "      <td>-4.940000</td>\n",
              "      <td>19.000000</td>\n",
              "      <td>-4.100000</td>\n",
              "      <td>20.000000</td>\n",
              "      <td>-1.000000</td>\n",
              "      <td>-7.250000</td>\n",
              "      <td>18.000000</td>\n",
              "      <td>-1.000000</td>\n",
              "      <td>2.200000</td>\n",
              "      <td>0.0</td>\n",
              "      <td>0.300000</td>\n",
              "      <td>121.900000</td>\n",
              "      <td>0.600000</td>\n",
              "      <td>0.350000</td>\n",
              "      <td>25.750000</td>\n",
              "      <td>0.350000</td>\n",
              "      <td>0.100000</td>\n",
              "      <td>-4.950000</td>\n",
              "      <td>0.400000</td>\n",
              "      <td>0.170000</td>\n",
              "      <td>-0.240000</td>\n",
              "      <td>-0.020000</td>\n",
              "      <td>-0.410000</td>\n",
              "      <td>-34.000000</td>\n",
              "      <td>65.000000</td>\n",
              "      <td>-166.000000</td>\n",
              "      <td>2.000000</td>\n",
              "      <td>585.000000</td>\n",
              "      <td>-366.000000</td>\n",
              "      <td>72.100000</td>\n",
              "      <td>-8.645000</td>\n",
              "      <td>17.500000</td>\n",
              "      <td>25.000000</td>\n",
              "      <td>-101.694500</td>\n",
              "      <td>10.888000</td>\n",
              "      <td>-0.020000</td>\n",
              "      <td>-0.030000</td>\n",
              "      <td>...</td>\n",
              "      <td>133.000000</td>\n",
              "      <td>-0.100000</td>\n",
              "      <td>-26.750000</td>\n",
              "      <td>20.200000</td>\n",
              "      <td>-0.100000</td>\n",
              "      <td>55.710000</td>\n",
              "      <td>54.740000</td>\n",
              "      <td>0.0</td>\n",
              "      <td>9.000000</td>\n",
              "      <td>139.312000</td>\n",
              "      <td>141.062000</td>\n",
              "      <td>135.747000</td>\n",
              "      <td>0.320000</td>\n",
              "      <td>-0.060000</td>\n",
              "      <td>-0.130000</td>\n",
              "      <td>11.000000</td>\n",
              "      <td>-2.000000</td>\n",
              "      <td>51.000000</td>\n",
              "      <td>107.500000</td>\n",
              "      <td>-486.000000</td>\n",
              "      <td>-59.000000</td>\n",
              "      <td>89.500000</td>\n",
              "      <td>19.700000</td>\n",
              "      <td>83.500000</td>\n",
              "      <td>49.600000</td>\n",
              "      <td>168.000000</td>\n",
              "      <td>4.650000</td>\n",
              "      <td>-168.500000</td>\n",
              "      <td>32.200000</td>\n",
              "      <td>341.500000</td>\n",
              "      <td>35.000000</td>\n",
              "      <td>0.060000</td>\n",
              "      <td>-0.020000</td>\n",
              "      <td>-0.020000</td>\n",
              "      <td>-6.000000</td>\n",
              "      <td>229.500000</td>\n",
              "      <td>-181.000000</td>\n",
              "      <td>-330.500000</td>\n",
              "      <td>653.000000</td>\n",
              "      <td>560.000000</td>\n",
              "    </tr>\n",
              "    <tr>\n",
              "      <th>75%</th>\n",
              "      <td>69.000000</td>\n",
              "      <td>124.000000</td>\n",
              "      <td>26.400000</td>\n",
              "      <td>-2.695000</td>\n",
              "      <td>20.000000</td>\n",
              "      <td>-1.450000</td>\n",
              "      <td>21.000000</td>\n",
              "      <td>-0.500000</td>\n",
              "      <td>-3.600000</td>\n",
              "      <td>19.000000</td>\n",
              "      <td>-0.500000</td>\n",
              "      <td>3.200000</td>\n",
              "      <td>0.0</td>\n",
              "      <td>0.925000</td>\n",
              "      <td>123.750000</td>\n",
              "      <td>1.625000</td>\n",
              "      <td>2.625000</td>\n",
              "      <td>26.325000</td>\n",
              "      <td>0.725000</td>\n",
              "      <td>0.600000</td>\n",
              "      <td>-2.525000</td>\n",
              "      <td>0.825000</td>\n",
              "      <td>0.697500</td>\n",
              "      <td>0.020000</td>\n",
              "      <td>0.000000</td>\n",
              "      <td>-0.020000</td>\n",
              "      <td>-16.000000</td>\n",
              "      <td>70.000000</td>\n",
              "      <td>20.000000</td>\n",
              "      <td>8.000000</td>\n",
              "      <td>601.000000</td>\n",
              "      <td>-311.000000</td>\n",
              "      <td>124.000000</td>\n",
              "      <td>14.600000</td>\n",
              "      <td>72.825000</td>\n",
              "      <td>34.000000</td>\n",
              "      <td>43.691350</td>\n",
              "      <td>193.071000</td>\n",
              "      <td>1.700000</td>\n",
              "      <td>0.580000</td>\n",
              "      <td>...</td>\n",
              "      <td>139.300000</td>\n",
              "      <td>0.725000</td>\n",
              "      <td>6.050000</td>\n",
              "      <td>92.875000</td>\n",
              "      <td>0.725000</td>\n",
              "      <td>87.697500</td>\n",
              "      <td>110.912500</td>\n",
              "      <td>0.0</td>\n",
              "      <td>14.000000</td>\n",
              "      <td>253.006750</td>\n",
              "      <td>221.250250</td>\n",
              "      <td>302.617000</td>\n",
              "      <td>0.530000</td>\n",
              "      <td>0.140000</td>\n",
              "      <td>0.050000</td>\n",
              "      <td>23.000000</td>\n",
              "      <td>47.000000</td>\n",
              "      <td>79.000000</td>\n",
              "      <td>506.000000</td>\n",
              "      <td>304.000000</td>\n",
              "      <td>1.000000</td>\n",
              "      <td>136.000000</td>\n",
              "      <td>43.900000</td>\n",
              "      <td>108.000000</td>\n",
              "      <td>59.975000</td>\n",
              "      <td>176.000000</td>\n",
              "      <td>16.200000</td>\n",
              "      <td>79.025000</td>\n",
              "      <td>50.552500</td>\n",
              "      <td>352.000000</td>\n",
              "      <td>37.000000</td>\n",
              "      <td>0.420000</td>\n",
              "      <td>1.830000</td>\n",
              "      <td>0.480000</td>\n",
              "      <td>113.000000</td>\n",
              "      <td>297.000000</td>\n",
              "      <td>-150.000000</td>\n",
              "      <td>-152.000000</td>\n",
              "      <td>747.000000</td>\n",
              "      <td>670.000000</td>\n",
              "    </tr>\n",
              "    <tr>\n",
              "      <th>max</th>\n",
              "      <td>91.000000</td>\n",
              "      <td>159.000000</td>\n",
              "      <td>60.300000</td>\n",
              "      <td>179.000000</td>\n",
              "      <td>26.000000</td>\n",
              "      <td>179.000000</td>\n",
              "      <td>26.000000</td>\n",
              "      <td>7.500000</td>\n",
              "      <td>157.000000</td>\n",
              "      <td>20.000000</td>\n",
              "      <td>7.500000</td>\n",
              "      <td>210.000000</td>\n",
              "      <td>0.0</td>\n",
              "      <td>18.200000</td>\n",
              "      <td>154.500000</td>\n",
              "      <td>8.500000</td>\n",
              "      <td>71.800000</td>\n",
              "      <td>59.700000</td>\n",
              "      <td>6.200000</td>\n",
              "      <td>39.000000</td>\n",
              "      <td>158.600000</td>\n",
              "      <td>163.100000</td>\n",
              "      <td>26610.320000</td>\n",
              "      <td>2.020000</td>\n",
              "      <td>0.420000</td>\n",
              "      <td>0.820000</td>\n",
              "      <td>80.000000</td>\n",
              "      <td>164.000000</td>\n",
              "      <td>77.000000</td>\n",
              "      <td>485.000000</td>\n",
              "      <td>652.000000</td>\n",
              "      <td>293.000000</td>\n",
              "      <td>180.000000</td>\n",
              "      <td>81.400000</td>\n",
              "      <td>180.000000</td>\n",
              "      <td>59.000000</td>\n",
              "      <td>546.023000</td>\n",
              "      <td>548.000000</td>\n",
              "      <td>4.340000</td>\n",
              "      <td>2.460000</td>\n",
              "      <td>...</td>\n",
              "      <td>152.900000</td>\n",
              "      <td>7.600000</td>\n",
              "      <td>26.800000</td>\n",
              "      <td>122.900000</td>\n",
              "      <td>7.600000</td>\n",
              "      <td>171.750000</td>\n",
              "      <td>217.330000</td>\n",
              "      <td>0.0</td>\n",
              "      <td>37.000000</td>\n",
              "      <td>574.526000</td>\n",
              "      <td>484.298000</td>\n",
              "      <td>710.596000</td>\n",
              "      <td>1.480000</td>\n",
              "      <td>4.370000</td>\n",
              "      <td>1.890000</td>\n",
              "      <td>217.000000</td>\n",
              "      <td>281.000000</td>\n",
              "      <td>122.000000</td>\n",
              "      <td>579.000000</td>\n",
              "      <td>618.000000</td>\n",
              "      <td>300.000000</td>\n",
              "      <td>180.000000</td>\n",
              "      <td>86.900000</td>\n",
              "      <td>180.000000</td>\n",
              "      <td>86.900000</td>\n",
              "      <td>180.000000</td>\n",
              "      <td>47.500000</td>\n",
              "      <td>125.000000</td>\n",
              "      <td>77.100000</td>\n",
              "      <td>359.000000</td>\n",
              "      <td>59.000000</td>\n",
              "      <td>1.810000</td>\n",
              "      <td>5.170000</td>\n",
              "      <td>3.350000</td>\n",
              "      <td>279.000000</td>\n",
              "      <td>575.000000</td>\n",
              "      <td>239.000000</td>\n",
              "      <td>413.000000</td>\n",
              "      <td>1440.000000</td>\n",
              "      <td>1040.000000</td>\n",
              "    </tr>\n",
              "  </tbody>\n",
              "</table>\n",
              "<p>8 rows × 101 columns</p>\n",
              "</div>"
            ],
            "text/plain": [
              "        num_window    roll_belt  ...  magnet_forearm_y  magnet_forearm_z\n",
              "count  4024.000000  4024.000000  ...       4024.000000       4024.000000\n",
              "mean     46.327535    73.308342  ...        358.638668        475.231113\n",
              "std      25.709134    62.207339  ...        520.255942        293.009818\n",
              "min       1.000000   -28.900000  ...       -725.000000       -876.000000\n",
              "25%      24.000000     1.380000  ...        -76.000000        370.750000\n",
              "50%      46.000000   122.000000  ...        653.000000        560.000000\n",
              "75%      69.000000   124.000000  ...        747.000000        670.000000\n",
              "max      91.000000   159.000000  ...       1440.000000       1040.000000\n",
              "\n",
              "[8 rows x 101 columns]"
            ]
          },
          "metadata": {
            "tags": []
          },
          "execution_count": 43
        }
      ]
    },
    {
      "cell_type": "markdown",
      "metadata": {
        "id": "R1_TE1FVy1lI"
      },
      "source": [
        "### Média, desvio padrão, min, max e quartis de todas as variáveis numéricas agrupado por usuário\n"
      ]
    },
    {
      "cell_type": "code",
      "metadata": {
        "id": "fJXEtTgbwaFu",
        "colab": {
          "base_uri": "https://localhost:8080/",
          "height": 315
        },
        "outputId": "8e8d0092-8de4-480a-e0a1-404a0255cff9"
      },
      "source": [
        "data.groupby([\"user_name\"]).describe() "
      ],
      "execution_count": null,
      "outputs": [
        {
          "output_type": "execute_result",
          "data": {
            "text/html": [
              "<div>\n",
              "<style scoped>\n",
              "    .dataframe tbody tr th:only-of-type {\n",
              "        vertical-align: middle;\n",
              "    }\n",
              "\n",
              "    .dataframe tbody tr th {\n",
              "        vertical-align: top;\n",
              "    }\n",
              "\n",
              "    .dataframe thead tr th {\n",
              "        text-align: left;\n",
              "    }\n",
              "\n",
              "    .dataframe thead tr:last-of-type th {\n",
              "        text-align: right;\n",
              "    }\n",
              "</style>\n",
              "<table border=\"1\" class=\"dataframe\">\n",
              "  <thead>\n",
              "    <tr>\n",
              "      <th></th>\n",
              "      <th colspan=\"8\" halign=\"left\">num_window</th>\n",
              "      <th colspan=\"8\" halign=\"left\">roll_belt</th>\n",
              "      <th colspan=\"8\" halign=\"left\">pitch_belt</th>\n",
              "      <th colspan=\"8\" halign=\"left\">yaw_belt</th>\n",
              "      <th colspan=\"8\" halign=\"left\">total_accel_belt</th>\n",
              "      <th>...</th>\n",
              "      <th colspan=\"8\" halign=\"left\">accel_forearm_y</th>\n",
              "      <th colspan=\"8\" halign=\"left\">accel_forearm_z</th>\n",
              "      <th colspan=\"8\" halign=\"left\">magnet_forearm_x</th>\n",
              "      <th colspan=\"8\" halign=\"left\">magnet_forearm_y</th>\n",
              "      <th colspan=\"8\" halign=\"left\">magnet_forearm_z</th>\n",
              "    </tr>\n",
              "    <tr>\n",
              "      <th></th>\n",
              "      <th>count</th>\n",
              "      <th>mean</th>\n",
              "      <th>std</th>\n",
              "      <th>min</th>\n",
              "      <th>25%</th>\n",
              "      <th>50%</th>\n",
              "      <th>75%</th>\n",
              "      <th>max</th>\n",
              "      <th>count</th>\n",
              "      <th>mean</th>\n",
              "      <th>std</th>\n",
              "      <th>min</th>\n",
              "      <th>25%</th>\n",
              "      <th>50%</th>\n",
              "      <th>75%</th>\n",
              "      <th>max</th>\n",
              "      <th>count</th>\n",
              "      <th>mean</th>\n",
              "      <th>std</th>\n",
              "      <th>min</th>\n",
              "      <th>25%</th>\n",
              "      <th>50%</th>\n",
              "      <th>75%</th>\n",
              "      <th>max</th>\n",
              "      <th>count</th>\n",
              "      <th>mean</th>\n",
              "      <th>std</th>\n",
              "      <th>min</th>\n",
              "      <th>25%</th>\n",
              "      <th>50%</th>\n",
              "      <th>75%</th>\n",
              "      <th>max</th>\n",
              "      <th>count</th>\n",
              "      <th>mean</th>\n",
              "      <th>std</th>\n",
              "      <th>min</th>\n",
              "      <th>25%</th>\n",
              "      <th>50%</th>\n",
              "      <th>75%</th>\n",
              "      <th>max</th>\n",
              "      <th>...</th>\n",
              "      <th>count</th>\n",
              "      <th>mean</th>\n",
              "      <th>std</th>\n",
              "      <th>min</th>\n",
              "      <th>25%</th>\n",
              "      <th>50%</th>\n",
              "      <th>75%</th>\n",
              "      <th>max</th>\n",
              "      <th>count</th>\n",
              "      <th>mean</th>\n",
              "      <th>std</th>\n",
              "      <th>min</th>\n",
              "      <th>25%</th>\n",
              "      <th>50%</th>\n",
              "      <th>75%</th>\n",
              "      <th>max</th>\n",
              "      <th>count</th>\n",
              "      <th>mean</th>\n",
              "      <th>std</th>\n",
              "      <th>min</th>\n",
              "      <th>25%</th>\n",
              "      <th>50%</th>\n",
              "      <th>75%</th>\n",
              "      <th>max</th>\n",
              "      <th>count</th>\n",
              "      <th>mean</th>\n",
              "      <th>std</th>\n",
              "      <th>min</th>\n",
              "      <th>25%</th>\n",
              "      <th>50%</th>\n",
              "      <th>75%</th>\n",
              "      <th>max</th>\n",
              "      <th>count</th>\n",
              "      <th>mean</th>\n",
              "      <th>std</th>\n",
              "      <th>min</th>\n",
              "      <th>25%</th>\n",
              "      <th>50%</th>\n",
              "      <th>75%</th>\n",
              "      <th>max</th>\n",
              "    </tr>\n",
              "    <tr>\n",
              "      <th>user_name</th>\n",
              "      <th></th>\n",
              "      <th></th>\n",
              "      <th></th>\n",
              "      <th></th>\n",
              "      <th></th>\n",
              "      <th></th>\n",
              "      <th></th>\n",
              "      <th></th>\n",
              "      <th></th>\n",
              "      <th></th>\n",
              "      <th></th>\n",
              "      <th></th>\n",
              "      <th></th>\n",
              "      <th></th>\n",
              "      <th></th>\n",
              "      <th></th>\n",
              "      <th></th>\n",
              "      <th></th>\n",
              "      <th></th>\n",
              "      <th></th>\n",
              "      <th></th>\n",
              "      <th></th>\n",
              "      <th></th>\n",
              "      <th></th>\n",
              "      <th></th>\n",
              "      <th></th>\n",
              "      <th></th>\n",
              "      <th></th>\n",
              "      <th></th>\n",
              "      <th></th>\n",
              "      <th></th>\n",
              "      <th></th>\n",
              "      <th></th>\n",
              "      <th></th>\n",
              "      <th></th>\n",
              "      <th></th>\n",
              "      <th></th>\n",
              "      <th></th>\n",
              "      <th></th>\n",
              "      <th></th>\n",
              "      <th></th>\n",
              "      <th></th>\n",
              "      <th></th>\n",
              "      <th></th>\n",
              "      <th></th>\n",
              "      <th></th>\n",
              "      <th></th>\n",
              "      <th></th>\n",
              "      <th></th>\n",
              "      <th></th>\n",
              "      <th></th>\n",
              "      <th></th>\n",
              "      <th></th>\n",
              "      <th></th>\n",
              "      <th></th>\n",
              "      <th></th>\n",
              "      <th></th>\n",
              "      <th></th>\n",
              "      <th></th>\n",
              "      <th></th>\n",
              "      <th></th>\n",
              "      <th></th>\n",
              "      <th></th>\n",
              "      <th></th>\n",
              "      <th></th>\n",
              "      <th></th>\n",
              "      <th></th>\n",
              "      <th></th>\n",
              "      <th></th>\n",
              "      <th></th>\n",
              "      <th></th>\n",
              "      <th></th>\n",
              "      <th></th>\n",
              "      <th></th>\n",
              "      <th></th>\n",
              "      <th></th>\n",
              "      <th></th>\n",
              "      <th></th>\n",
              "      <th></th>\n",
              "      <th></th>\n",
              "      <th></th>\n",
              "    </tr>\n",
              "  </thead>\n",
              "  <tbody>\n",
              "    <tr>\n",
              "      <th>adelmo</th>\n",
              "      <td>311.0</td>\n",
              "      <td>6.659164</td>\n",
              "      <td>1.920913</td>\n",
              "      <td>4.0</td>\n",
              "      <td>5.0</td>\n",
              "      <td>7.0</td>\n",
              "      <td>8.0</td>\n",
              "      <td>10.0</td>\n",
              "      <td>311.0</td>\n",
              "      <td>138.231511</td>\n",
              "      <td>9.632159</td>\n",
              "      <td>122.00</td>\n",
              "      <td>133.5000</td>\n",
              "      <td>137.000</td>\n",
              "      <td>140.5000</td>\n",
              "      <td>159.00</td>\n",
              "      <td>311.0</td>\n",
              "      <td>-37.749196</td>\n",
              "      <td>6.900612</td>\n",
              "      <td>-56.20</td>\n",
              "      <td>-40.35</td>\n",
              "      <td>-37.10</td>\n",
              "      <td>-32.6000</td>\n",
              "      <td>-27.80</td>\n",
              "      <td>311.0</td>\n",
              "      <td>118.131833</td>\n",
              "      <td>78.512658</td>\n",
              "      <td>-179.0</td>\n",
              "      <td>130.00</td>\n",
              "      <td>136.00</td>\n",
              "      <td>143.000</td>\n",
              "      <td>179.00</td>\n",
              "      <td>311.0</td>\n",
              "      <td>19.019293</td>\n",
              "      <td>2.805458</td>\n",
              "      <td>13.0</td>\n",
              "      <td>17.00</td>\n",
              "      <td>18.0</td>\n",
              "      <td>20.0</td>\n",
              "      <td>26.0</td>\n",
              "      <td>...</td>\n",
              "      <td>311.0</td>\n",
              "      <td>251.032154</td>\n",
              "      <td>235.313845</td>\n",
              "      <td>-185.0</td>\n",
              "      <td>4.00</td>\n",
              "      <td>331.0</td>\n",
              "      <td>452.50</td>\n",
              "      <td>575.0</td>\n",
              "      <td>311.0</td>\n",
              "      <td>-13.832797</td>\n",
              "      <td>32.427950</td>\n",
              "      <td>-79.0</td>\n",
              "      <td>-33.00</td>\n",
              "      <td>-18.0</td>\n",
              "      <td>-2.00</td>\n",
              "      <td>71.0</td>\n",
              "      <td>311.0</td>\n",
              "      <td>-308.414791</td>\n",
              "      <td>265.363910</td>\n",
              "      <td>-715.0</td>\n",
              "      <td>-565.5</td>\n",
              "      <td>-282.0</td>\n",
              "      <td>-94.50</td>\n",
              "      <td>125.0</td>\n",
              "      <td>311.0</td>\n",
              "      <td>193.610932</td>\n",
              "      <td>570.888487</td>\n",
              "      <td>-715.0</td>\n",
              "      <td>-441.50</td>\n",
              "      <td>439.0</td>\n",
              "      <td>716.50</td>\n",
              "      <td>843.0</td>\n",
              "      <td>311.0</td>\n",
              "      <td>437.720257</td>\n",
              "      <td>304.373776</td>\n",
              "      <td>-139.0</td>\n",
              "      <td>164.50</td>\n",
              "      <td>495.0</td>\n",
              "      <td>663.00</td>\n",
              "      <td>969.0</td>\n",
              "    </tr>\n",
              "    <tr>\n",
              "      <th>carlitos</th>\n",
              "      <td>1580.0</td>\n",
              "      <td>28.544937</td>\n",
              "      <td>9.953655</td>\n",
              "      <td>11.0</td>\n",
              "      <td>20.0</td>\n",
              "      <td>29.0</td>\n",
              "      <td>37.0</td>\n",
              "      <td>45.0</td>\n",
              "      <td>1580.0</td>\n",
              "      <td>0.796418</td>\n",
              "      <td>5.027059</td>\n",
              "      <td>-13.40</td>\n",
              "      <td>-1.3125</td>\n",
              "      <td>1.180</td>\n",
              "      <td>1.9475</td>\n",
              "      <td>13.00</td>\n",
              "      <td>1580.0</td>\n",
              "      <td>6.212658</td>\n",
              "      <td>1.557684</td>\n",
              "      <td>1.85</td>\n",
              "      <td>5.19</td>\n",
              "      <td>6.50</td>\n",
              "      <td>7.4100</td>\n",
              "      <td>9.04</td>\n",
              "      <td>1580.0</td>\n",
              "      <td>-93.016519</td>\n",
              "      <td>0.898454</td>\n",
              "      <td>-94.4</td>\n",
              "      <td>-93.80</td>\n",
              "      <td>-93.20</td>\n",
              "      <td>-92.400</td>\n",
              "      <td>-90.70</td>\n",
              "      <td>1580.0</td>\n",
              "      <td>2.958861</td>\n",
              "      <td>1.109098</td>\n",
              "      <td>0.0</td>\n",
              "      <td>2.00</td>\n",
              "      <td>3.0</td>\n",
              "      <td>3.0</td>\n",
              "      <td>8.0</td>\n",
              "      <td>...</td>\n",
              "      <td>1580.0</td>\n",
              "      <td>143.503797</td>\n",
              "      <td>207.987709</td>\n",
              "      <td>-408.0</td>\n",
              "      <td>-27.25</td>\n",
              "      <td>205.0</td>\n",
              "      <td>286.25</td>\n",
              "      <td>474.0</td>\n",
              "      <td>1580.0</td>\n",
              "      <td>-205.258861</td>\n",
              "      <td>27.794541</td>\n",
              "      <td>-310.0</td>\n",
              "      <td>-216.00</td>\n",
              "      <td>-211.0</td>\n",
              "      <td>-186.75</td>\n",
              "      <td>-99.0</td>\n",
              "      <td>1580.0</td>\n",
              "      <td>-290.224051</td>\n",
              "      <td>288.386576</td>\n",
              "      <td>-705.0</td>\n",
              "      <td>-559.0</td>\n",
              "      <td>-302.5</td>\n",
              "      <td>-14.00</td>\n",
              "      <td>413.0</td>\n",
              "      <td>1580.0</td>\n",
              "      <td>259.094937</td>\n",
              "      <td>530.121326</td>\n",
              "      <td>-725.0</td>\n",
              "      <td>-274.25</td>\n",
              "      <td>606.0</td>\n",
              "      <td>667.25</td>\n",
              "      <td>777.0</td>\n",
              "      <td>1580.0</td>\n",
              "      <td>410.300633</td>\n",
              "      <td>244.629816</td>\n",
              "      <td>-295.0</td>\n",
              "      <td>321.75</td>\n",
              "      <td>471.0</td>\n",
              "      <td>569.00</td>\n",
              "      <td>896.0</td>\n",
              "    </tr>\n",
              "    <tr>\n",
              "      <th>eurico</th>\n",
              "      <td>88.0</td>\n",
              "      <td>1.465909</td>\n",
              "      <td>0.501695</td>\n",
              "      <td>1.0</td>\n",
              "      <td>1.0</td>\n",
              "      <td>1.0</td>\n",
              "      <td>2.0</td>\n",
              "      <td>2.0</td>\n",
              "      <td>88.0</td>\n",
              "      <td>-15.336250</td>\n",
              "      <td>12.874801</td>\n",
              "      <td>-28.90</td>\n",
              "      <td>-27.8000</td>\n",
              "      <td>-18.700</td>\n",
              "      <td>0.3450</td>\n",
              "      <td>3.70</td>\n",
              "      <td>88.0</td>\n",
              "      <td>54.944318</td>\n",
              "      <td>5.860561</td>\n",
              "      <td>41.60</td>\n",
              "      <td>47.80</td>\n",
              "      <td>57.65</td>\n",
              "      <td>59.9000</td>\n",
              "      <td>60.30</td>\n",
              "      <td>88.0</td>\n",
              "      <td>-88.910227</td>\n",
              "      <td>5.602217</td>\n",
              "      <td>-96.4</td>\n",
              "      <td>-93.75</td>\n",
              "      <td>-90.05</td>\n",
              "      <td>-82.300</td>\n",
              "      <td>-80.80</td>\n",
              "      <td>88.0</td>\n",
              "      <td>7.511364</td>\n",
              "      <td>3.437435</td>\n",
              "      <td>1.0</td>\n",
              "      <td>6.00</td>\n",
              "      <td>8.0</td>\n",
              "      <td>9.0</td>\n",
              "      <td>22.0</td>\n",
              "      <td>...</td>\n",
              "      <td>88.0</td>\n",
              "      <td>183.227273</td>\n",
              "      <td>35.794987</td>\n",
              "      <td>130.0</td>\n",
              "      <td>150.75</td>\n",
              "      <td>181.5</td>\n",
              "      <td>212.50</td>\n",
              "      <td>269.0</td>\n",
              "      <td>88.0</td>\n",
              "      <td>212.215909</td>\n",
              "      <td>13.787758</td>\n",
              "      <td>182.0</td>\n",
              "      <td>203.75</td>\n",
              "      <td>214.0</td>\n",
              "      <td>221.00</td>\n",
              "      <td>239.0</td>\n",
              "      <td>88.0</td>\n",
              "      <td>-873.590909</td>\n",
              "      <td>108.356970</td>\n",
              "      <td>-1160.0</td>\n",
              "      <td>-930.0</td>\n",
              "      <td>-839.5</td>\n",
              "      <td>-778.75</td>\n",
              "      <td>-755.0</td>\n",
              "      <td>88.0</td>\n",
              "      <td>1220.034091</td>\n",
              "      <td>182.375100</td>\n",
              "      <td>955.0</td>\n",
              "      <td>1037.50</td>\n",
              "      <td>1250.0</td>\n",
              "      <td>1400.00</td>\n",
              "      <td>1440.0</td>\n",
              "      <td>88.0</td>\n",
              "      <td>-525.875000</td>\n",
              "      <td>224.740863</td>\n",
              "      <td>-876.0</td>\n",
              "      <td>-741.75</td>\n",
              "      <td>-494.0</td>\n",
              "      <td>-296.75</td>\n",
              "      <td>-249.0</td>\n",
              "    </tr>\n",
              "    <tr>\n",
              "      <th>jeremy</th>\n",
              "      <td>4.0</td>\n",
              "      <td>3.000000</td>\n",
              "      <td>0.000000</td>\n",
              "      <td>3.0</td>\n",
              "      <td>3.0</td>\n",
              "      <td>3.0</td>\n",
              "      <td>3.0</td>\n",
              "      <td>3.0</td>\n",
              "      <td>4.0</td>\n",
              "      <td>0.755000</td>\n",
              "      <td>0.005774</td>\n",
              "      <td>0.75</td>\n",
              "      <td>0.7500</td>\n",
              "      <td>0.755</td>\n",
              "      <td>0.7600</td>\n",
              "      <td>0.76</td>\n",
              "      <td>4.0</td>\n",
              "      <td>5.832500</td>\n",
              "      <td>0.015000</td>\n",
              "      <td>5.82</td>\n",
              "      <td>5.82</td>\n",
              "      <td>5.83</td>\n",
              "      <td>5.8425</td>\n",
              "      <td>5.85</td>\n",
              "      <td>4.0</td>\n",
              "      <td>-88.375000</td>\n",
              "      <td>0.050000</td>\n",
              "      <td>-88.4</td>\n",
              "      <td>-88.40</td>\n",
              "      <td>-88.40</td>\n",
              "      <td>-88.375</td>\n",
              "      <td>-88.30</td>\n",
              "      <td>4.0</td>\n",
              "      <td>4.750000</td>\n",
              "      <td>0.500000</td>\n",
              "      <td>4.0</td>\n",
              "      <td>4.75</td>\n",
              "      <td>5.0</td>\n",
              "      <td>5.0</td>\n",
              "      <td>5.0</td>\n",
              "      <td>...</td>\n",
              "      <td>4.0</td>\n",
              "      <td>168.750000</td>\n",
              "      <td>2.061553</td>\n",
              "      <td>167.0</td>\n",
              "      <td>167.00</td>\n",
              "      <td>168.5</td>\n",
              "      <td>170.25</td>\n",
              "      <td>171.0</td>\n",
              "      <td>4.0</td>\n",
              "      <td>-162.000000</td>\n",
              "      <td>1.414214</td>\n",
              "      <td>-163.0</td>\n",
              "      <td>-163.00</td>\n",
              "      <td>-162.5</td>\n",
              "      <td>-161.50</td>\n",
              "      <td>-160.0</td>\n",
              "      <td>4.0</td>\n",
              "      <td>-29.000000</td>\n",
              "      <td>2.943920</td>\n",
              "      <td>-32.0</td>\n",
              "      <td>-30.5</td>\n",
              "      <td>-29.5</td>\n",
              "      <td>-28.00</td>\n",
              "      <td>-25.0</td>\n",
              "      <td>4.0</td>\n",
              "      <td>684.250000</td>\n",
              "      <td>4.645787</td>\n",
              "      <td>680.0</td>\n",
              "      <td>680.75</td>\n",
              "      <td>683.5</td>\n",
              "      <td>687.00</td>\n",
              "      <td>690.0</td>\n",
              "      <td>4.0</td>\n",
              "      <td>777.500000</td>\n",
              "      <td>2.516611</td>\n",
              "      <td>775.0</td>\n",
              "      <td>776.50</td>\n",
              "      <td>777.0</td>\n",
              "      <td>778.00</td>\n",
              "      <td>781.0</td>\n",
              "    </tr>\n",
              "    <tr>\n",
              "      <th>pedro</th>\n",
              "      <td>2041.0</td>\n",
              "      <td>68.157276</td>\n",
              "      <td>13.195263</td>\n",
              "      <td>46.0</td>\n",
              "      <td>57.0</td>\n",
              "      <td>68.0</td>\n",
              "      <td>80.0</td>\n",
              "      <td>91.0</td>\n",
              "      <td>2041.0</td>\n",
              "      <td>123.513474</td>\n",
              "      <td>2.152504</td>\n",
              "      <td>118.00</td>\n",
              "      <td>122.0000</td>\n",
              "      <td>123.000</td>\n",
              "      <td>124.0000</td>\n",
              "      <td>129.00</td>\n",
              "      <td>2041.0</td>\n",
              "      <td>26.475943</td>\n",
              "      <td>0.792368</td>\n",
              "      <td>24.70</td>\n",
              "      <td>25.90</td>\n",
              "      <td>26.30</td>\n",
              "      <td>26.8000</td>\n",
              "      <td>28.90</td>\n",
              "      <td>2041.0</td>\n",
              "      <td>-3.056115</td>\n",
              "      <td>2.357378</td>\n",
              "      <td>-10.5</td>\n",
              "      <td>-4.45</td>\n",
              "      <td>-3.47</td>\n",
              "      <td>-1.720</td>\n",
              "      <td>2.69</td>\n",
              "      <td>2041.0</td>\n",
              "      <td>19.650661</td>\n",
              "      <td>0.728254</td>\n",
              "      <td>17.0</td>\n",
              "      <td>19.00</td>\n",
              "      <td>20.0</td>\n",
              "      <td>20.0</td>\n",
              "      <td>21.0</td>\n",
              "      <td>...</td>\n",
              "      <td>2041.0</td>\n",
              "      <td>180.487016</td>\n",
              "      <td>173.792749</td>\n",
              "      <td>-467.0</td>\n",
              "      <td>122.00</td>\n",
              "      <td>238.0</td>\n",
              "      <td>294.00</td>\n",
              "      <td>456.0</td>\n",
              "      <td>2041.0</td>\n",
              "      <td>-169.134248</td>\n",
              "      <td>35.090801</td>\n",
              "      <td>-366.0</td>\n",
              "      <td>-190.00</td>\n",
              "      <td>-167.0</td>\n",
              "      <td>-147.00</td>\n",
              "      <td>-36.0</td>\n",
              "      <td>2041.0</td>\n",
              "      <td>-378.030377</td>\n",
              "      <td>217.975437</td>\n",
              "      <td>-722.0</td>\n",
              "      <td>-596.0</td>\n",
              "      <td>-344.0</td>\n",
              "      <td>-164.00</td>\n",
              "      <td>70.0</td>\n",
              "      <td>2041.0</td>\n",
              "      <td>423.066634</td>\n",
              "      <td>465.948734</td>\n",
              "      <td>-703.0</td>\n",
              "      <td>89.00</td>\n",
              "      <td>730.0</td>\n",
              "      <td>759.00</td>\n",
              "      <td>815.0</td>\n",
              "      <td>2041.0</td>\n",
              "      <td>573.782950</td>\n",
              "      <td>223.940288</td>\n",
              "      <td>-109.0</td>\n",
              "      <td>500.00</td>\n",
              "      <td>644.0</td>\n",
              "      <td>707.00</td>\n",
              "      <td>1040.0</td>\n",
              "    </tr>\n",
              "  </tbody>\n",
              "</table>\n",
              "<p>5 rows × 808 columns</p>\n",
              "</div>"
            ],
            "text/plain": [
              "          num_window                              ... magnet_forearm_z                       \n",
              "               count       mean        std   min  ...              25%    50%     75%     max\n",
              "user_name                                         ...                                        \n",
              "adelmo         311.0   6.659164   1.920913   4.0  ...           164.50  495.0  663.00   969.0\n",
              "carlitos      1580.0  28.544937   9.953655  11.0  ...           321.75  471.0  569.00   896.0\n",
              "eurico          88.0   1.465909   0.501695   1.0  ...          -741.75 -494.0 -296.75  -249.0\n",
              "jeremy           4.0   3.000000   0.000000   3.0  ...           776.50  777.0  778.00   781.0\n",
              "pedro         2041.0  68.157276  13.195263  46.0  ...           500.00  644.0  707.00  1040.0\n",
              "\n",
              "[5 rows x 808 columns]"
            ]
          },
          "metadata": {
            "tags": []
          },
          "execution_count": 44
        }
      ]
    },
    {
      "cell_type": "markdown",
      "metadata": {
        "id": "hwTYE0mKy7Ma"
      },
      "source": [
        "Com esse agrupamento conseguimos observar um desbalanceamento grande entre os dados coletados para cada usuário, onde carlitos e pedro possuem uma quantidade superior de dados em relação ao restante e jeremy quase não possui dados coletados."
      ]
    },
    {
      "cell_type": "code",
      "metadata": {
        "id": "o13heT8wzTpG",
        "colab": {
          "base_uri": "https://localhost:8080/",
          "height": 316
        },
        "outputId": "42bc9fa4-6dff-41b4-f44e-e330c789a6ac"
      },
      "source": [
        "plt.style.use('ggplot')\n",
        "plt.hist(data[\"user_name\"], bins=5)"
      ],
      "execution_count": null,
      "outputs": [
        {
          "output_type": "execute_result",
          "data": {
            "text/plain": [
              "(array([  88.,    4.,  311., 1580., 2041.]),\n",
              " array([0. , 0.8, 1.6, 2.4, 3.2, 4. ]),\n",
              " <a list of 5 Patch objects>)"
            ]
          },
          "metadata": {
            "tags": []
          },
          "execution_count": 45
        },
        {
          "output_type": "display_data",
          "data": {
            "image/png": "[encoded data removed]",
            "text/plain": [
              "<Figure size 432x288 with 1 Axes>"
            ]
          },
          "metadata": {
            "tags": []
          }
        }
      ]
    },
    {
      "cell_type": "markdown",
      "metadata": {
        "id": "98Ev1PJIzXbv"
      },
      "source": [
        "### Média, desvio padrão, min, max e quartis de todas as variáveis numéricas agrupado por classe\n"
      ]
    },
    {
      "cell_type": "code",
      "metadata": {
        "id": "I9BV2v5ozZCp",
        "colab": {
          "base_uri": "https://localhost:8080/",
          "height": 315
        },
        "outputId": "b3d938cd-358f-4e79-87d2-f5df49915369"
      },
      "source": [
        "data.groupby([\"classe\"]).describe() "
      ],
      "execution_count": null,
      "outputs": [
        {
          "output_type": "execute_result",
          "data": {
            "text/html": [
              "<div>\n",
              "<style scoped>\n",
              "    .dataframe tbody tr th:only-of-type {\n",
              "        vertical-align: middle;\n",
              "    }\n",
              "\n",
              "    .dataframe tbody tr th {\n",
              "        vertical-align: top;\n",
              "    }\n",
              "\n",
              "    .dataframe thead tr th {\n",
              "        text-align: left;\n",
              "    }\n",
              "\n",
              "    .dataframe thead tr:last-of-type th {\n",
              "        text-align: right;\n",
              "    }\n",
              "</style>\n",
              "<table border=\"1\" class=\"dataframe\">\n",
              "  <thead>\n",
              "    <tr>\n",
              "      <th></th>\n",
              "      <th colspan=\"8\" halign=\"left\">num_window</th>\n",
              "      <th colspan=\"8\" halign=\"left\">roll_belt</th>\n",
              "      <th colspan=\"8\" halign=\"left\">pitch_belt</th>\n",
              "      <th colspan=\"8\" halign=\"left\">yaw_belt</th>\n",
              "      <th colspan=\"8\" halign=\"left\">total_accel_belt</th>\n",
              "      <th>...</th>\n",
              "      <th colspan=\"8\" halign=\"left\">accel_forearm_y</th>\n",
              "      <th colspan=\"8\" halign=\"left\">accel_forearm_z</th>\n",
              "      <th colspan=\"8\" halign=\"left\">magnet_forearm_x</th>\n",
              "      <th colspan=\"8\" halign=\"left\">magnet_forearm_y</th>\n",
              "      <th colspan=\"8\" halign=\"left\">magnet_forearm_z</th>\n",
              "    </tr>\n",
              "    <tr>\n",
              "      <th></th>\n",
              "      <th>count</th>\n",
              "      <th>mean</th>\n",
              "      <th>std</th>\n",
              "      <th>min</th>\n",
              "      <th>25%</th>\n",
              "      <th>50%</th>\n",
              "      <th>75%</th>\n",
              "      <th>max</th>\n",
              "      <th>count</th>\n",
              "      <th>mean</th>\n",
              "      <th>std</th>\n",
              "      <th>min</th>\n",
              "      <th>25%</th>\n",
              "      <th>50%</th>\n",
              "      <th>75%</th>\n",
              "      <th>max</th>\n",
              "      <th>count</th>\n",
              "      <th>mean</th>\n",
              "      <th>std</th>\n",
              "      <th>min</th>\n",
              "      <th>25%</th>\n",
              "      <th>50%</th>\n",
              "      <th>75%</th>\n",
              "      <th>max</th>\n",
              "      <th>count</th>\n",
              "      <th>mean</th>\n",
              "      <th>std</th>\n",
              "      <th>min</th>\n",
              "      <th>25%</th>\n",
              "      <th>50%</th>\n",
              "      <th>75%</th>\n",
              "      <th>max</th>\n",
              "      <th>count</th>\n",
              "      <th>mean</th>\n",
              "      <th>std</th>\n",
              "      <th>min</th>\n",
              "      <th>25%</th>\n",
              "      <th>50%</th>\n",
              "      <th>75%</th>\n",
              "      <th>max</th>\n",
              "      <th>...</th>\n",
              "      <th>count</th>\n",
              "      <th>mean</th>\n",
              "      <th>std</th>\n",
              "      <th>min</th>\n",
              "      <th>25%</th>\n",
              "      <th>50%</th>\n",
              "      <th>75%</th>\n",
              "      <th>max</th>\n",
              "      <th>count</th>\n",
              "      <th>mean</th>\n",
              "      <th>std</th>\n",
              "      <th>min</th>\n",
              "      <th>25%</th>\n",
              "      <th>50%</th>\n",
              "      <th>75%</th>\n",
              "      <th>max</th>\n",
              "      <th>count</th>\n",
              "      <th>mean</th>\n",
              "      <th>std</th>\n",
              "      <th>min</th>\n",
              "      <th>25%</th>\n",
              "      <th>50%</th>\n",
              "      <th>75%</th>\n",
              "      <th>max</th>\n",
              "      <th>count</th>\n",
              "      <th>mean</th>\n",
              "      <th>std</th>\n",
              "      <th>min</th>\n",
              "      <th>25%</th>\n",
              "      <th>50%</th>\n",
              "      <th>75%</th>\n",
              "      <th>max</th>\n",
              "      <th>count</th>\n",
              "      <th>mean</th>\n",
              "      <th>std</th>\n",
              "      <th>min</th>\n",
              "      <th>25%</th>\n",
              "      <th>50%</th>\n",
              "      <th>75%</th>\n",
              "      <th>max</th>\n",
              "    </tr>\n",
              "    <tr>\n",
              "      <th>classe</th>\n",
              "      <th></th>\n",
              "      <th></th>\n",
              "      <th></th>\n",
              "      <th></th>\n",
              "      <th></th>\n",
              "      <th></th>\n",
              "      <th></th>\n",
              "      <th></th>\n",
              "      <th></th>\n",
              "      <th></th>\n",
              "      <th></th>\n",
              "      <th></th>\n",
              "      <th></th>\n",
              "      <th></th>\n",
              "      <th></th>\n",
              "      <th></th>\n",
              "      <th></th>\n",
              "      <th></th>\n",
              "      <th></th>\n",
              "      <th></th>\n",
              "      <th></th>\n",
              "      <th></th>\n",
              "      <th></th>\n",
              "      <th></th>\n",
              "      <th></th>\n",
              "      <th></th>\n",
              "      <th></th>\n",
              "      <th></th>\n",
              "      <th></th>\n",
              "      <th></th>\n",
              "      <th></th>\n",
              "      <th></th>\n",
              "      <th></th>\n",
              "      <th></th>\n",
              "      <th></th>\n",
              "      <th></th>\n",
              "      <th></th>\n",
              "      <th></th>\n",
              "      <th></th>\n",
              "      <th></th>\n",
              "      <th></th>\n",
              "      <th></th>\n",
              "      <th></th>\n",
              "      <th></th>\n",
              "      <th></th>\n",
              "      <th></th>\n",
              "      <th></th>\n",
              "      <th></th>\n",
              "      <th></th>\n",
              "      <th></th>\n",
              "      <th></th>\n",
              "      <th></th>\n",
              "      <th></th>\n",
              "      <th></th>\n",
              "      <th></th>\n",
              "      <th></th>\n",
              "      <th></th>\n",
              "      <th></th>\n",
              "      <th></th>\n",
              "      <th></th>\n",
              "      <th></th>\n",
              "      <th></th>\n",
              "      <th></th>\n",
              "      <th></th>\n",
              "      <th></th>\n",
              "      <th></th>\n",
              "      <th></th>\n",
              "      <th></th>\n",
              "      <th></th>\n",
              "      <th></th>\n",
              "      <th></th>\n",
              "      <th></th>\n",
              "      <th></th>\n",
              "      <th></th>\n",
              "      <th></th>\n",
              "      <th></th>\n",
              "      <th></th>\n",
              "      <th></th>\n",
              "      <th></th>\n",
              "      <th></th>\n",
              "      <th></th>\n",
              "    </tr>\n",
              "  </thead>\n",
              "  <tbody>\n",
              "    <tr>\n",
              "      <th>A</th>\n",
              "      <td>1365.0</td>\n",
              "      <td>46.364835</td>\n",
              "      <td>18.939832</td>\n",
              "      <td>11.0</td>\n",
              "      <td>46.0</td>\n",
              "      <td>53.0</td>\n",
              "      <td>60.0</td>\n",
              "      <td>68.0</td>\n",
              "      <td>1365.0</td>\n",
              "      <td>94.262315</td>\n",
              "      <td>53.309500</td>\n",
              "      <td>0.84</td>\n",
              "      <td>122.0000</td>\n",
              "      <td>124.00</td>\n",
              "      <td>125.000</td>\n",
              "      <td>129.00</td>\n",
              "      <td>1365.0</td>\n",
              "      <td>21.898374</td>\n",
              "      <td>8.250138</td>\n",
              "      <td>6.96</td>\n",
              "      <td>25.4000</td>\n",
              "      <td>26.10</td>\n",
              "      <td>26.60</td>\n",
              "      <td>28.9</td>\n",
              "      <td>1365.0</td>\n",
              "      <td>-24.562396</td>\n",
              "      <td>39.868570</td>\n",
              "      <td>-94.40</td>\n",
              "      <td>-4.770</td>\n",
              "      <td>-3.27</td>\n",
              "      <td>-0.8800</td>\n",
              "      <td>2.69</td>\n",
              "      <td>1365.0</td>\n",
              "      <td>15.735531</td>\n",
              "      <td>7.297085</td>\n",
              "      <td>3.0</td>\n",
              "      <td>19.0</td>\n",
              "      <td>20.0</td>\n",
              "      <td>20.0</td>\n",
              "      <td>21.0</td>\n",
              "      <td>...</td>\n",
              "      <td>1365.0</td>\n",
              "      <td>203.846886</td>\n",
              "      <td>103.541621</td>\n",
              "      <td>-197.0</td>\n",
              "      <td>203.00</td>\n",
              "      <td>225.0</td>\n",
              "      <td>252.0</td>\n",
              "      <td>360.0</td>\n",
              "      <td>1365.0</td>\n",
              "      <td>-184.914286</td>\n",
              "      <td>26.039826</td>\n",
              "      <td>-247.0</td>\n",
              "      <td>-213.00</td>\n",
              "      <td>-189.0</td>\n",
              "      <td>-163.0</td>\n",
              "      <td>-90.0</td>\n",
              "      <td>1365.0</td>\n",
              "      <td>-273.150916</td>\n",
              "      <td>238.659933</td>\n",
              "      <td>-716.0</td>\n",
              "      <td>-499.00</td>\n",
              "      <td>-167.0</td>\n",
              "      <td>-120.00</td>\n",
              "      <td>-1.0</td>\n",
              "      <td>1365.0</td>\n",
              "      <td>574.092308</td>\n",
              "      <td>306.706318</td>\n",
              "      <td>-425.0</td>\n",
              "      <td>648.00</td>\n",
              "      <td>683.0</td>\n",
              "      <td>751.0</td>\n",
              "      <td>797.0</td>\n",
              "      <td>1365.0</td>\n",
              "      <td>548.461538</td>\n",
              "      <td>137.648436</td>\n",
              "      <td>104.0</td>\n",
              "      <td>469.00</td>\n",
              "      <td>576.0</td>\n",
              "      <td>657.00</td>\n",
              "      <td>789.0</td>\n",
              "    </tr>\n",
              "    <tr>\n",
              "      <th>B</th>\n",
              "      <td>901.0</td>\n",
              "      <td>78.485017</td>\n",
              "      <td>5.519365</td>\n",
              "      <td>69.0</td>\n",
              "      <td>74.0</td>\n",
              "      <td>79.0</td>\n",
              "      <td>83.0</td>\n",
              "      <td>88.0</td>\n",
              "      <td>901.0</td>\n",
              "      <td>122.214206</td>\n",
              "      <td>1.347285</td>\n",
              "      <td>118.00</td>\n",
              "      <td>121.0000</td>\n",
              "      <td>122.00</td>\n",
              "      <td>123.000</td>\n",
              "      <td>125.00</td>\n",
              "      <td>901.0</td>\n",
              "      <td>26.420089</td>\n",
              "      <td>0.656122</td>\n",
              "      <td>24.70</td>\n",
              "      <td>26.0000</td>\n",
              "      <td>26.40</td>\n",
              "      <td>26.80</td>\n",
              "      <td>28.2</td>\n",
              "      <td>901.0</td>\n",
              "      <td>-4.506215</td>\n",
              "      <td>1.843216</td>\n",
              "      <td>-10.50</td>\n",
              "      <td>-5.490</td>\n",
              "      <td>-4.46</td>\n",
              "      <td>-3.4000</td>\n",
              "      <td>-0.15</td>\n",
              "      <td>901.0</td>\n",
              "      <td>19.391787</td>\n",
              "      <td>0.754762</td>\n",
              "      <td>17.0</td>\n",
              "      <td>19.0</td>\n",
              "      <td>19.0</td>\n",
              "      <td>20.0</td>\n",
              "      <td>21.0</td>\n",
              "      <td>...</td>\n",
              "      <td>901.0</td>\n",
              "      <td>153.099889</td>\n",
              "      <td>210.566651</td>\n",
              "      <td>-467.0</td>\n",
              "      <td>14.00</td>\n",
              "      <td>245.0</td>\n",
              "      <td>310.0</td>\n",
              "      <td>451.0</td>\n",
              "      <td>901.0</td>\n",
              "      <td>-162.684795</td>\n",
              "      <td>41.562142</td>\n",
              "      <td>-314.0</td>\n",
              "      <td>-179.00</td>\n",
              "      <td>-158.0</td>\n",
              "      <td>-137.0</td>\n",
              "      <td>-36.0</td>\n",
              "      <td>901.0</td>\n",
              "      <td>-404.843507</td>\n",
              "      <td>217.962813</td>\n",
              "      <td>-722.0</td>\n",
              "      <td>-622.00</td>\n",
              "      <td>-404.0</td>\n",
              "      <td>-216.00</td>\n",
              "      <td>48.0</td>\n",
              "      <td>901.0</td>\n",
              "      <td>289.234184</td>\n",
              "      <td>528.571162</td>\n",
              "      <td>-673.0</td>\n",
              "      <td>-215.00</td>\n",
              "      <td>525.0</td>\n",
              "      <td>768.0</td>\n",
              "      <td>813.0</td>\n",
              "      <td>901.0</td>\n",
              "      <td>567.067703</td>\n",
              "      <td>275.714371</td>\n",
              "      <td>-60.0</td>\n",
              "      <td>385.00</td>\n",
              "      <td>682.0</td>\n",
              "      <td>742.00</td>\n",
              "      <td>1040.0</td>\n",
              "    </tr>\n",
              "    <tr>\n",
              "      <th>C</th>\n",
              "      <td>112.0</td>\n",
              "      <td>90.169643</td>\n",
              "      <td>0.792855</td>\n",
              "      <td>89.0</td>\n",
              "      <td>90.0</td>\n",
              "      <td>90.0</td>\n",
              "      <td>91.0</td>\n",
              "      <td>91.0</td>\n",
              "      <td>112.0</td>\n",
              "      <td>122.562500</td>\n",
              "      <td>0.668213</td>\n",
              "      <td>122.00</td>\n",
              "      <td>122.0000</td>\n",
              "      <td>122.00</td>\n",
              "      <td>123.000</td>\n",
              "      <td>124.00</td>\n",
              "      <td>112.0</td>\n",
              "      <td>25.800000</td>\n",
              "      <td>0.372235</td>\n",
              "      <td>24.70</td>\n",
              "      <td>25.7000</td>\n",
              "      <td>25.90</td>\n",
              "      <td>26.10</td>\n",
              "      <td>26.2</td>\n",
              "      <td>112.0</td>\n",
              "      <td>-3.214821</td>\n",
              "      <td>0.984392</td>\n",
              "      <td>-4.25</td>\n",
              "      <td>-3.915</td>\n",
              "      <td>-3.57</td>\n",
              "      <td>-2.9475</td>\n",
              "      <td>-0.78</td>\n",
              "      <td>112.0</td>\n",
              "      <td>19.446429</td>\n",
              "      <td>0.499356</td>\n",
              "      <td>19.0</td>\n",
              "      <td>19.0</td>\n",
              "      <td>19.0</td>\n",
              "      <td>20.0</td>\n",
              "      <td>20.0</td>\n",
              "      <td>...</td>\n",
              "      <td>112.0</td>\n",
              "      <td>187.410714</td>\n",
              "      <td>229.620429</td>\n",
              "      <td>-424.0</td>\n",
              "      <td>80.00</td>\n",
              "      <td>295.5</td>\n",
              "      <td>344.0</td>\n",
              "      <td>456.0</td>\n",
              "      <td>112.0</td>\n",
              "      <td>-164.321429</td>\n",
              "      <td>55.157631</td>\n",
              "      <td>-366.0</td>\n",
              "      <td>-176.25</td>\n",
              "      <td>-151.0</td>\n",
              "      <td>-129.0</td>\n",
              "      <td>-91.0</td>\n",
              "      <td>112.0</td>\n",
              "      <td>-338.821429</td>\n",
              "      <td>229.180884</td>\n",
              "      <td>-718.0</td>\n",
              "      <td>-540.25</td>\n",
              "      <td>-316.0</td>\n",
              "      <td>-135.00</td>\n",
              "      <td>70.0</td>\n",
              "      <td>112.0</td>\n",
              "      <td>357.598214</td>\n",
              "      <td>549.830039</td>\n",
              "      <td>-703.0</td>\n",
              "      <td>-108.25</td>\n",
              "      <td>719.0</td>\n",
              "      <td>779.5</td>\n",
              "      <td>815.0</td>\n",
              "      <td>112.0</td>\n",
              "      <td>622.419643</td>\n",
              "      <td>308.170178</td>\n",
              "      <td>-109.0</td>\n",
              "      <td>588.00</td>\n",
              "      <td>717.5</td>\n",
              "      <td>838.75</td>\n",
              "      <td>948.0</td>\n",
              "    </tr>\n",
              "    <tr>\n",
              "      <th>D</th>\n",
              "      <td>276.0</td>\n",
              "      <td>21.463768</td>\n",
              "      <td>1.660928</td>\n",
              "      <td>19.0</td>\n",
              "      <td>20.0</td>\n",
              "      <td>21.0</td>\n",
              "      <td>23.0</td>\n",
              "      <td>24.0</td>\n",
              "      <td>276.0</td>\n",
              "      <td>1.254638</td>\n",
              "      <td>0.301735</td>\n",
              "      <td>0.32</td>\n",
              "      <td>1.0575</td>\n",
              "      <td>1.18</td>\n",
              "      <td>1.540</td>\n",
              "      <td>1.86</td>\n",
              "      <td>276.0</td>\n",
              "      <td>6.981196</td>\n",
              "      <td>0.828555</td>\n",
              "      <td>5.69</td>\n",
              "      <td>6.4275</td>\n",
              "      <td>6.78</td>\n",
              "      <td>7.21</td>\n",
              "      <td>9.0</td>\n",
              "      <td>276.0</td>\n",
              "      <td>-93.428623</td>\n",
              "      <td>0.243190</td>\n",
              "      <td>-94.00</td>\n",
              "      <td>-93.600</td>\n",
              "      <td>-93.30</td>\n",
              "      <td>-93.3000</td>\n",
              "      <td>-93.10</td>\n",
              "      <td>276.0</td>\n",
              "      <td>2.989130</td>\n",
              "      <td>0.404373</td>\n",
              "      <td>2.0</td>\n",
              "      <td>3.0</td>\n",
              "      <td>3.0</td>\n",
              "      <td>3.0</td>\n",
              "      <td>4.0</td>\n",
              "      <td>...</td>\n",
              "      <td>276.0</td>\n",
              "      <td>92.746377</td>\n",
              "      <td>199.788399</td>\n",
              "      <td>-273.0</td>\n",
              "      <td>-83.25</td>\n",
              "      <td>100.0</td>\n",
              "      <td>288.0</td>\n",
              "      <td>393.0</td>\n",
              "      <td>276.0</td>\n",
              "      <td>-189.322464</td>\n",
              "      <td>20.045430</td>\n",
              "      <td>-263.0</td>\n",
              "      <td>-198.00</td>\n",
              "      <td>-187.0</td>\n",
              "      <td>-177.0</td>\n",
              "      <td>-150.0</td>\n",
              "      <td>276.0</td>\n",
              "      <td>-518.278986</td>\n",
              "      <td>163.742209</td>\n",
              "      <td>-700.0</td>\n",
              "      <td>-651.00</td>\n",
              "      <td>-575.0</td>\n",
              "      <td>-410.00</td>\n",
              "      <td>-124.0</td>\n",
              "      <td>276.0</td>\n",
              "      <td>54.213768</td>\n",
              "      <td>402.554906</td>\n",
              "      <td>-543.0</td>\n",
              "      <td>-327.50</td>\n",
              "      <td>24.5</td>\n",
              "      <td>460.0</td>\n",
              "      <td>671.0</td>\n",
              "      <td>276.0</td>\n",
              "      <td>427.108696</td>\n",
              "      <td>145.401397</td>\n",
              "      <td>160.0</td>\n",
              "      <td>307.75</td>\n",
              "      <td>444.0</td>\n",
              "      <td>563.00</td>\n",
              "      <td>684.0</td>\n",
              "    </tr>\n",
              "    <tr>\n",
              "      <th>E</th>\n",
              "      <td>1370.0</td>\n",
              "      <td>26.566423</td>\n",
              "      <td>14.526479</td>\n",
              "      <td>1.0</td>\n",
              "      <td>9.0</td>\n",
              "      <td>31.0</td>\n",
              "      <td>38.0</td>\n",
              "      <td>45.0</td>\n",
              "      <td>1370.0</td>\n",
              "      <td>30.756518</td>\n",
              "      <td>58.906505</td>\n",
              "      <td>-28.90</td>\n",
              "      <td>-4.3750</td>\n",
              "      <td>2.36</td>\n",
              "      <td>11.575</td>\n",
              "      <td>159.00</td>\n",
              "      <td>1370.0</td>\n",
              "      <td>-1.124350</td>\n",
              "      <td>23.512814</td>\n",
              "      <td>-56.20</td>\n",
              "      <td>2.6325</td>\n",
              "      <td>5.05</td>\n",
              "      <td>6.51</td>\n",
              "      <td>60.3</td>\n",
              "      <td>1370.0</td>\n",
              "      <td>-44.458467</td>\n",
              "      <td>95.750565</td>\n",
              "      <td>-179.00</td>\n",
              "      <td>-93.100</td>\n",
              "      <td>-92.20</td>\n",
              "      <td>-90.7000</td>\n",
              "      <td>179.00</td>\n",
              "      <td>1370.0</td>\n",
              "      <td>6.878102</td>\n",
              "      <td>6.962523</td>\n",
              "      <td>0.0</td>\n",
              "      <td>2.0</td>\n",
              "      <td>3.5</td>\n",
              "      <td>9.0</td>\n",
              "      <td>26.0</td>\n",
              "      <td>...</td>\n",
              "      <td>1370.0</td>\n",
              "      <td>165.837956</td>\n",
              "      <td>235.161487</td>\n",
              "      <td>-408.0</td>\n",
              "      <td>-41.75</td>\n",
              "      <td>250.5</td>\n",
              "      <td>350.0</td>\n",
              "      <td>575.0</td>\n",
              "      <td>1370.0</td>\n",
              "      <td>-135.870803</td>\n",
              "      <td>125.315940</td>\n",
              "      <td>-310.0</td>\n",
              "      <td>-217.00</td>\n",
              "      <td>-189.0</td>\n",
              "      <td>-39.0</td>\n",
              "      <td>239.0</td>\n",
              "      <td>1370.0</td>\n",
              "      <td>-353.587591</td>\n",
              "      <td>309.518123</td>\n",
              "      <td>-1160.0</td>\n",
              "      <td>-598.75</td>\n",
              "      <td>-373.5</td>\n",
              "      <td>-151.25</td>\n",
              "      <td>413.0</td>\n",
              "      <td>1370.0</td>\n",
              "      <td>251.030657</td>\n",
              "      <td>617.415384</td>\n",
              "      <td>-725.0</td>\n",
              "      <td>-445.00</td>\n",
              "      <td>569.5</td>\n",
              "      <td>731.0</td>\n",
              "      <td>1440.0</td>\n",
              "      <td>1370.0</td>\n",
              "      <td>339.532117</td>\n",
              "      <td>374.073647</td>\n",
              "      <td>-876.0</td>\n",
              "      <td>46.25</td>\n",
              "      <td>500.5</td>\n",
              "      <td>603.00</td>\n",
              "      <td>969.0</td>\n",
              "    </tr>\n",
              "  </tbody>\n",
              "</table>\n",
              "<p>5 rows × 808 columns</p>\n",
              "</div>"
            ],
            "text/plain": [
              "       num_window                              ... magnet_forearm_z                       \n",
              "            count       mean        std   min  ...              25%    50%     75%     max\n",
              "classe                                         ...                                        \n",
              "A          1365.0  46.364835  18.939832  11.0  ...           469.00  576.0  657.00   789.0\n",
              "B           901.0  78.485017   5.519365  69.0  ...           385.00  682.0  742.00  1040.0\n",
              "C           112.0  90.169643   0.792855  89.0  ...           588.00  717.5  838.75   948.0\n",
              "D           276.0  21.463768   1.660928  19.0  ...           307.75  444.0  563.00   684.0\n",
              "E          1370.0  26.566423  14.526479   1.0  ...            46.25  500.5  603.00   969.0\n",
              "\n",
              "[5 rows x 808 columns]"
            ]
          },
          "metadata": {
            "tags": []
          },
          "execution_count": 46
        }
      ]
    },
    {
      "cell_type": "markdown",
      "metadata": {
        "id": "9XBCQaRcznbD"
      },
      "source": [
        "Com esse agrupamento já conseguimos identificar alguns padrões entre as classes, por exemplo a média de pitch belt da maioria delas gira em torno de 21-26, mas na classes D e E temos uma média mais baixa, os desvios padrões dessa variável também nos informam que para todas as classes menos a A e a E não há muita variância. Dessa maneira conseguimos ver que existem algumas variáveis que diferenciam razoavelmente bem as classes."
      ]
    },
    {
      "cell_type": "code",
      "metadata": {
        "id": "E-3H7hxMt2Ty",
        "colab": {
          "base_uri": "https://localhost:8080/",
          "height": 316
        },
        "outputId": "bce2f089-14a2-4052-d780-0dff86d9215d"
      },
      "source": [
        "plt.style.use('ggplot')\n",
        "plt.hist(data[\"classe\"], bins=5)"
      ],
      "execution_count": null,
      "outputs": [
        {
          "output_type": "execute_result",
          "data": {
            "text/plain": [
              "(array([1370., 1365.,  276.,  901.,  112.]),\n",
              " array([0. , 0.8, 1.6, 2.4, 3.2, 4. ]),\n",
              " <a list of 5 Patch objects>)"
            ]
          },
          "metadata": {
            "tags": []
          },
          "execution_count": 47
        },
        {
          "output_type": "display_data",
          "data": {
            "image/png": "[encoded data removed]",
            "text/plain": [
              "<Figure size 432x288 with 1 Axes>"
            ]
          },
          "metadata": {
            "tags": []
          }
        }
      ]
    },
    {
      "cell_type": "markdown",
      "metadata": {
        "id": "2FQ0jf730ex5"
      },
      "source": [
        "Também conseguimos ver que há um desbalanceamento entre as classes, sendo as classes E, A e B as mais representadas pelos dados."
      ]
    },
    {
      "cell_type": "markdown",
      "metadata": {
        "id": "3LfmAgb104od"
      },
      "source": [
        "## Dados Nulos\n",
        "\n",
        "Nesse gráfico o que está preenchido com preto são dados não nulos, além disso há uma barra no lado direito deste diagrama. Este é um gráfico de linha para a integridade dos dados de cada linha."
      ]
    },
    {
      "cell_type": "code",
      "metadata": {
        "id": "_yDeroT7u06J",
        "colab": {
          "base_uri": "https://localhost:8080/",
          "height": 514
        },
        "outputId": "6b3f175f-8814-4fdb-c58c-e4bb9d977b14"
      },
      "source": [
        "import missingno as msno\n",
        "msno.matrix(data)"
      ],
      "execution_count": null,
      "outputs": [
        {
          "output_type": "execute_result",
          "data": {
            "text/plain": [
              "<matplotlib.axes._subplots.AxesSubplot at 0x7fdfc8b775f8>"
            ]
          },
          "metadata": {
            "tags": []
          },
          "execution_count": 48
        },
        {
          "output_type": "display_data",
          "data": {
            "image/png": "[encoded data removed]",
            "text/plain": [
              "<Figure size 1800x720 with 2 Axes>"
            ]
          },
          "metadata": {
            "tags": []
          }
        }
      ]
    },
    {
      "cell_type": "markdown",
      "metadata": {
        "id": "pfcEvAsB1nDC"
      },
      "source": [
        "Conseguimos observar uma quantidade grande de dados nulos no dataset, 100 colunas das 156 possuem mais de 90% de dados nulos"
      ]
    },
    {
      "cell_type": "code",
      "metadata": {
        "id": "u34mIJiB1-u2",
        "colab": {
          "base_uri": "https://localhost:8080/",
          "height": 34
        },
        "outputId": "be21bb4c-af27-474a-9de8-acad3e01e362"
      },
      "source": [
        "filtered_df = data.dropna(thresh=data.shape[0]*0.9,how='all',axis=1)\n",
        "filtered_df.shape"
      ],
      "execution_count": null,
      "outputs": [
        {
          "output_type": "execute_result",
          "data": {
            "text/plain": [
              "(4024, 56)"
            ]
          },
          "metadata": {
            "tags": []
          },
          "execution_count": 49
        }
      ]
    },
    {
      "cell_type": "code",
      "metadata": {
        "id": "X74sqH3-27Nu",
        "colab": {
          "base_uri": "https://localhost:8080/",
          "height": 382
        },
        "outputId": "1a1a75ee-cddf-4c02-9e0d-b4045be4c6a7"
      },
      "source": [
        "sns.heatmap(filtered_df.isnull(), cbar=False)"
      ],
      "execution_count": null,
      "outputs": [
        {
          "output_type": "execute_result",
          "data": {
            "text/plain": [
              "<matplotlib.axes._subplots.AxesSubplot at 0x7fdfc921c940>"
            ]
          },
          "metadata": {
            "tags": []
          },
          "execution_count": 50
        },
        {
          "output_type": "display_data",
          "data": {
            "image/png": "[encoded data removed]",
            "text/plain": [
              "<Figure size 432x288 with 1 Axes>"
            ]
          },
          "metadata": {
            "tags": []
          }
        }
      ]
    },
    {
      "cell_type": "markdown",
      "metadata": {
        "id": "0BaAfqZ13xAa"
      },
      "source": [
        "No entanto não existem dados nulos nas 59 colunas restantes."
      ]
    },
    {
      "cell_type": "markdown",
      "metadata": {
        "id": "fw26BQFT31fV"
      },
      "source": [
        "### Matriz de Correlação"
      ]
    },
    {
      "cell_type": "code",
      "metadata": {
        "id": "wDHQD1jtvIPw",
        "colab": {
          "base_uri": "https://localhost:8080/",
          "height": 710
        },
        "outputId": "38940d2c-f73b-4f5a-ed89-f61d6066b0a5"
      },
      "source": [
        "# Visualizando a matriz de correlação\n",
        "corr = data.corr()\n",
        "plt.figure(figsize=(10,10))\n",
        "sns.heatmap(corr, cmap= 'coolwarm')\n",
        "plt.show()\n"
      ],
      "execution_count": null,
      "outputs": [
        {
          "output_type": "display_data",
          "data": {
            "image/png": "[encoded data removed]",
            "text/plain": [
              "<Figure size 720x720 with 2 Axes>"
            ]
          },
          "metadata": {
            "tags": []
          }
        }
      ]
    },
    {
      "cell_type": "markdown",
      "metadata": {
        "id": "VdPAfb1G4E66"
      },
      "source": [
        "Existem algumas correlações fortes tanto negativas quanto positivas entre algumas colunas do dataset, mas em geral as colunas tendem a ter correlações mais médias ou neutras."
      ]
    },
    {
      "cell_type": "markdown",
      "metadata": {
        "id": "wxKGsHxIvO3s"
      },
      "source": [
        "### Matriz de Correlação sem colunas nulas"
      ]
    },
    {
      "cell_type": "code",
      "metadata": {
        "id": "NrrPG7ZRvHaK",
        "colab": {
          "base_uri": "https://localhost:8080/",
          "height": 687
        },
        "outputId": "c3b98f6d-61b9-4d79-f20b-57380a33b7c8"
      },
      "source": [
        "# Visualizando a matriz de correlação\n",
        "corr = filtered_df.corr()\n",
        "plt.figure(figsize=(10,10))\n",
        "sns.heatmap(corr, cmap= 'coolwarm')\n",
        "plt.show()\n"
      ],
      "execution_count": null,
      "outputs": [
        {
          "output_type": "display_data",
          "data": {
            "image/png": "[encoded data removed]",
            "text/plain": [
              "<Figure size 720x720 with 2 Axes>"
            ]
          },
          "metadata": {
            "tags": []
          }
        }
      ]
    },
    {
      "cell_type": "markdown",
      "metadata": {
        "id": "vsPOGxBs35PN"
      },
      "source": [
        "# Stratified K-Fold para a base original "
      ]
    },
    {
      "cell_type": "markdown",
      "metadata": {
        "id": "JQGaW2rge2mp"
      },
      "source": [
        "## SVM"
      ]
    },
    {
      "cell_type": "code",
      "metadata": {
        "id": "_8lEoT9WezXm",
        "colab": {
          "base_uri": "https://localhost:8080/",
          "height": 85
        },
        "outputId": "8f183207-08c2-4159-f39f-4825d2c7e540"
      },
      "source": [
        "from sklearn.metrics import accuracy_score\n",
        "\n",
        "data_na_filled = data.fillna(data.mean())\n",
        "y = data_na_filled[[\"classe\"]].values\n",
        "X = data_na_filled.drop(['classe',],1)\n",
        "X = pd.get_dummies(X) # one hot encoding para dados nominais\n",
        "X = X.values\n",
        "\n",
        "def SVM_tunning(df, target):\n",
        "    skf = RepeatedStratifiedKFold(n_splits=5, n_repeats=2, random_state=2673512)\n",
        "    kernels = np.array(['linear', 'poly', 'rbf', 'sigmoid'])  \n",
        "    acur_total = np.array([])\n",
        "    \n",
        "    for i in kernels:   \n",
        "        acur_kernel = np.array([])      \n",
        "        for train_index, test_index in skf.split(df, target):\n",
        "            \n",
        "            x_train, x_test = df[train_index], df[test_index]\n",
        "            y_train, y_test = target[train_index], target[test_index]\n",
        "        \n",
        "            classifier = svm.SVC(kernel = i)\n",
        "            classifier.fit(x_train, np.ravel(y_train))\n",
        "            \n",
        "            y_pred = classifier.predict(x_test)\n",
        "            acur_kernel = np.append(acur_kernel, metrics.accuracy_score(y_test, y_pred))\n",
        "        \n",
        "        acur_total = np.append(acur_total, np.mean(acur_kernel))\n",
        "    print(\"Linear:\", acur_total[0])\n",
        "    print(\"Poly:\", acur_total[1])\n",
        "    print(\"RBF:\", acur_total[2])\n",
        "    print(\"Sigmoid:\", acur_total[3])\n",
        "SVM_tunning(X, y)\n"
      ],
      "execution_count": null,
      "outputs": [
        {
          "output_type": "stream",
          "text": [
            "Linear: 0.9983847841537653\n",
            "Poly: 0.9403575291245636\n",
            "RBF: 0.9357604832977968\n",
            "Sigmoid: 0.6283509471277154\n"
          ],
          "name": "stdout"
        }
      ]
    },
    {
      "cell_type": "markdown",
      "metadata": {
        "id": "t3nBAjoti_0s"
      },
      "source": [
        "## MLP"
      ]
    },
    {
      "cell_type": "code",
      "metadata": {
        "id": "fYGs2XEGjDco",
        "colab": {
          "base_uri": "https://localhost:8080/",
          "height": 333
        },
        "outputId": "c5ee156a-20af-4b27-ceef-9ca72f407815"
      },
      "source": [
        "import numpy as np\n",
        "from sklearn.neural_network import MLPClassifier\n",
        "from sklearn.model_selection import RepeatedStratifiedKFold\n",
        "from sklearn import metrics\n",
        "from sklearn.metrics import accuracy_score\n",
        "\n",
        "data_na_filled = data.fillna(data.mean())\n",
        "y = data_na_filled[[\"classe\"]].values\n",
        "X = data_na_filled.drop(['classe',],1)\n",
        "X = pd.get_dummies(X) # one hot encoding para dados nominais\n",
        "X = X.values\n",
        "\n",
        "def MLP_tunning(df,target):\n",
        "    \n",
        "    skf = RepeatedStratifiedKFold(n_splits=5, n_repeats=2, random_state=2673512)\n",
        "    \n",
        "    acur_total = np.array([])\n",
        "    #hidden_layer = np.arange([10, 30, 50, 70, 100])\n",
        "    \n",
        "    for i in [10, 30, 50, 70, 100]:\n",
        "    \n",
        "        acur_kernel = np.array([])\n",
        "        \n",
        "        for train_index, test_index in skf.split(df, target):\n",
        "            \n",
        "            x_train, x_test = df[train_index], df[test_index]\n",
        "            y_train, y_test = target[train_index], target[test_index]\n",
        "        \n",
        "            classifier = MLPClassifier(hidden_layer_sizes=(i,), activation='relu', alpha=0.0001, learning_rate='adaptive', momentum=0.9, max_iter=1000)        \n",
        "            classifier.fit(x_train, np.ravel(y_train))\n",
        "            \n",
        "            y_pred = classifier.predict(x_test)\n",
        "            acur_kernel = np.append(acur_kernel, metrics.accuracy_score(y_test, y_pred))\n",
        "        \n",
        "        acur_total = np.append(acur_total, np.mean(acur_kernel))\n",
        "    print(acur_total)\n",
        "    #print(\"A quantidade ideal de neurônios na camada escondida é\", hidden_layer[np.argmax(acur_total)])\n",
        "\n",
        "MLP_tunning(X, y)"
      ],
      "execution_count": null,
      "outputs": [
        {
          "output_type": "stream",
          "text": [
            "[0.9396179  0.99018294 0.97651911 0.99229675 0.97838169]\n"
          ],
          "name": "stdout"
        },
        {
          "output_type": "error",
          "ename": "NameError",
          "evalue": "ignored",
          "traceback": [
            "\u001b[0;31m---------------------------------------------------------------------------\u001b[0m",
            "\u001b[0;31mNameError\u001b[0m                                 Traceback (most recent call last)",
            "\u001b[0;32m<ipython-input-63-5ae4c4178e85>\u001b[0m in \u001b[0;36m<module>\u001b[0;34m()\u001b[0m\n\u001b[1;32m     37\u001b[0m     \u001b[0mprint\u001b[0m\u001b[0;34m(\u001b[0m\u001b[0;34m\"A quantidade ideal de neurônios na camada escondida é\"\u001b[0m\u001b[0;34m,\u001b[0m \u001b[0mhidden_layer\u001b[0m\u001b[0;34m[\u001b[0m\u001b[0mnp\u001b[0m\u001b[0;34m.\u001b[0m\u001b[0margmax\u001b[0m\u001b[0;34m(\u001b[0m\u001b[0macur_total\u001b[0m\u001b[0;34m)\u001b[0m\u001b[0;34m]\u001b[0m\u001b[0;34m)\u001b[0m\u001b[0;34m\u001b[0m\u001b[0;34m\u001b[0m\u001b[0m\n\u001b[1;32m     38\u001b[0m \u001b[0;34m\u001b[0m\u001b[0m\n\u001b[0;32m---> 39\u001b[0;31m \u001b[0mMLP_tunning\u001b[0m\u001b[0;34m(\u001b[0m\u001b[0mX\u001b[0m\u001b[0;34m,\u001b[0m \u001b[0my\u001b[0m\u001b[0;34m)\u001b[0m\u001b[0;34m\u001b[0m\u001b[0;34m\u001b[0m\u001b[0m\n\u001b[0m",
            "\u001b[0;32m<ipython-input-63-5ae4c4178e85>\u001b[0m in \u001b[0;36mMLP_tunning\u001b[0;34m(df, target)\u001b[0m\n\u001b[1;32m     35\u001b[0m         \u001b[0macur_total\u001b[0m \u001b[0;34m=\u001b[0m \u001b[0mnp\u001b[0m\u001b[0;34m.\u001b[0m\u001b[0mappend\u001b[0m\u001b[0;34m(\u001b[0m\u001b[0macur_total\u001b[0m\u001b[0;34m,\u001b[0m \u001b[0mnp\u001b[0m\u001b[0;34m.\u001b[0m\u001b[0mmean\u001b[0m\u001b[0;34m(\u001b[0m\u001b[0macur_kernel\u001b[0m\u001b[0;34m)\u001b[0m\u001b[0;34m)\u001b[0m\u001b[0;34m\u001b[0m\u001b[0;34m\u001b[0m\u001b[0m\n\u001b[1;32m     36\u001b[0m     \u001b[0mprint\u001b[0m\u001b[0;34m(\u001b[0m\u001b[0macur_total\u001b[0m\u001b[0;34m)\u001b[0m\u001b[0;34m\u001b[0m\u001b[0;34m\u001b[0m\u001b[0m\n\u001b[0;32m---> 37\u001b[0;31m     \u001b[0mprint\u001b[0m\u001b[0;34m(\u001b[0m\u001b[0;34m\"A quantidade ideal de neurônios na camada escondida é\"\u001b[0m\u001b[0;34m,\u001b[0m \u001b[0mhidden_layer\u001b[0m\u001b[0;34m[\u001b[0m\u001b[0mnp\u001b[0m\u001b[0;34m.\u001b[0m\u001b[0margmax\u001b[0m\u001b[0;34m(\u001b[0m\u001b[0macur_total\u001b[0m\u001b[0;34m)\u001b[0m\u001b[0;34m]\u001b[0m\u001b[0;34m)\u001b[0m\u001b[0;34m\u001b[0m\u001b[0;34m\u001b[0m\u001b[0m\n\u001b[0m\u001b[1;32m     38\u001b[0m \u001b[0;34m\u001b[0m\u001b[0m\n\u001b[1;32m     39\u001b[0m \u001b[0mMLP_tunning\u001b[0m\u001b[0;34m(\u001b[0m\u001b[0mX\u001b[0m\u001b[0;34m,\u001b[0m \u001b[0my\u001b[0m\u001b[0;34m)\u001b[0m\u001b[0;34m\u001b[0m\u001b[0;34m\u001b[0m\u001b[0m\n",
            "\u001b[0;31mNameError\u001b[0m: name 'hidden_layer' is not defined"
          ]
        }
      ]
    },
    {
      "cell_type": "markdown",
      "metadata": {
        "id": "IKMEAvKIXQB_"
      },
      "source": [
        "## KNN"
      ]
    },
    {
      "cell_type": "code",
      "metadata": {
        "id": "yPU4JpMRxXez",
        "colab": {
          "base_uri": "https://localhost:8080/",
          "height": 51
        },
        "outputId": "ed172523-dc38-46f5-ca7a-e430b1feb8b4"
      },
      "source": [
        "from sklearn.metrics import accuracy_score\n",
        "\n",
        "data_na_filled = data.fillna(data.mean())\n",
        "y = data_na_filled[[\"classe\"]].values\n",
        "X = data_na_filled.drop(['classe',],1)\n",
        "X = pd.get_dummies(X) # one hot encoding para dados nominais\n",
        "X = X.values\n",
        "\n",
        "def KNN_tunning(df, target):\n",
        "    skf = RepeatedStratifiedKFold(n_splits=5, n_repeats=2, random_state=2673512)\n",
        "    vizinhos = np.arange(3, 5, 7)  \n",
        "    acur_total = np.array([])\n",
        "    \n",
        "    for i in [3, 5, 7]:  \n",
        "        acur_vizinho = np.array([])       \n",
        "        for train_index, test_index in skf.split(df, target):\n",
        "            \n",
        "            x_train, x_test = df[train_index], df[test_index]\n",
        "            y_train, y_test = target[train_index], target[test_index]\n",
        "        \n",
        "            classifier = KNeighborsClassifier(n_neighbors = i)\n",
        "            classifier.fit(x_train, np.ravel(y_train))\n",
        "            \n",
        "            y_pred = classifier.predict(x_test)\n",
        "            acur_vizinho = np.append(acur_vizinho, metrics.accuracy_score(y_test, y_pred))\n",
        "        \n",
        "        acur_total = np.append(acur_total, np.mean(acur_vizinho))\n",
        "    print(\"K=3:\", acur_total[0])\n",
        "    print(\"Acur_total\", acur_total)\n",
        "    #print(\"K=5:\", acur_total[1])\n",
        "    #print(\"K=7:\", acur_total[2])\n",
        "KNN_tunning(X, y)\n",
        "#print(acur_total)"
      ],
      "execution_count": null,
      "outputs": [
        {
          "output_type": "stream",
          "text": [
            "K=3: 0.9940355675040944\n",
            "Acur_total [0.99403557 0.98745033 0.97875143]\n"
          ],
          "name": "stdout"
        }
      ]
    },
    {
      "cell_type": "markdown",
      "metadata": {
        "id": "_HApPPlQXS2A"
      },
      "source": [
        "## Árvore de decisão"
      ]
    },
    {
      "cell_type": "code",
      "metadata": {
        "id": "vqNY1DmOWxDs",
        "colab": {
          "base_uri": "https://localhost:8080/",
          "height": 68
        },
        "outputId": "60f2c746-e476-4623-ec3c-bc58618dbdc6"
      },
      "source": [
        "y = data[[\"classe\"]].values\n",
        "X = data.drop(['classe',],1)\n",
        "X = pd.get_dummies(X) # one hot encoding para dados nominais\n",
        "X = X.values\n",
        "\n",
        "def Tree_tunning(df, target):\n",
        "    skf = RepeatedStratifiedKFold(n_splits=5, n_repeats=2, random_state=2673512)\n",
        "    estimators = np.array([10, 20, 30])    \n",
        "    acur_total = np.array([])\n",
        "    \n",
        "    for i in estimators:    \n",
        "        acur_tree = np.array([])       \n",
        "        for train_index, test_index in skf.split(df, target):          \n",
        "            x_train, x_test = df[train_index], df[test_index]\n",
        "            y_train, y_test = target[train_index], target[test_index]\n",
        "        \n",
        "            classifier = xgb.XGBClassifier(objective ='multi:softmax', colsample_bytree = 0.3, learning_rate = 0.1,\n",
        "                    max_depth = 5, alpha = 10, n_estimators = i, num_class = 5)\n",
        "            classifier.fit(x_train, np.ravel(y_train))\n",
        "            \n",
        "            y_pred = classifier.predict(x_test)\n",
        "            acur_tree = np.append(acur_tree, metrics.accuracy_score(y_test, y_pred))       \n",
        "        acur_total = np.append(acur_total, np.mean(acur_tree))\n",
        "    print(\"n_estimators = 10:\", acur_total[0])\n",
        "    print(\"n_estimators = 20:\", acur_total[1])\n",
        "    print(\"n_estimators = 30:\", acur_total[2])\n",
        "\n",
        "Tree_tunning(X, y)"
      ],
      "execution_count": null,
      "outputs": [
        {
          "output_type": "stream",
          "text": [
            "n_estimators = 10: 0.9998757763975157\n",
            "n_estimators = 20: 1.0\n",
            "n_estimators = 30: 1.0\n"
          ],
          "name": "stdout"
        }
      ]
    },
    {
      "cell_type": "markdown",
      "metadata": {
        "id": "Er4-1ME_XViG"
      },
      "source": [
        "## Random Forest"
      ]
    },
    {
      "cell_type": "code",
      "metadata": {
        "id": "F_OElbK1XC6j",
        "colab": {
          "base_uri": "https://localhost:8080/",
          "height": 34
        },
        "outputId": "2040edc0-023d-4e0f-9581-af22c242aee7"
      },
      "source": [
        "from sklearn.ensemble import StackingClassifier\n",
        "from sklearn.ensemble import RandomForestClassifier\n",
        "from sklearn.linear_model import LogisticRegression\n",
        "\n",
        "data_na_filled = data.fillna(data.mean())\n",
        "y = data_na_filled[[\"classe\"]].values\n",
        "X = data_na_filled.drop(['classe',],1)\n",
        "X = pd.get_dummies(X) # one hot encoding para dados nominais\n",
        "X = X.values\n",
        "\n",
        "def Ensemble_tunning(df, target):\n",
        "    skf = RepeatedStratifiedKFold(n_splits=5, n_repeats=2, random_state=2673512)\n",
        "    estimators = np.array([10, 20, 30])    \n",
        "    acur_total = np.array([])\n",
        "    \n",
        "    for i in estimators:    \n",
        "        acur_RF = np.array([])        \n",
        "        for train_index, test_index in skf.split(df, target):            \n",
        "            x_train, x_test = df[train_index], df[test_index]\n",
        "            y_train, y_test = target[train_index], target[test_index]       \n",
        "            classifier = RandomForestClassifier(n_estimators=i, random_state=42)\n",
        "            classifier.fit(x_train, np.ravel(y_train))\n",
        "            \n",
        "            y_pred = classifier.predict(x_test)\n",
        "            acur_RF = np.append(acur_RF, metrics.accuracy_score(y_test, y_pred))\n",
        "        \n",
        "        acur_total = np.append(acur_total, np.mean(acur_RF))\n",
        "    print(\"Acuracia total:\", acur_total)\n",
        "    #print(\"n_estimators=10:\", acur_total[0])\n",
        "    #print(\"n_estimators=20:\", acur_total[1])\n",
        "    #print(\"n_estimators=30:\", acur_total[2])\n",
        "Ensemble_tunning(X, y)\n"
      ],
      "execution_count": null,
      "outputs": [
        {
          "output_type": "stream",
          "text": [
            "Acuracia total: [0.99167486 0.99565017 0.99714116]\n"
          ],
          "name": "stdout"
        }
      ]
    },
    {
      "cell_type": "markdown",
      "metadata": {
        "id": "3OWHAiuf6fPi"
      },
      "source": [
        "## Corrigindo o desbalanceamento de classes com OverSampling"
      ]
    },
    {
      "cell_type": "code",
      "metadata": {
        "id": "IkOIyr859o5X",
        "colab": {
          "base_uri": "https://localhost:8080/",
          "height": 34
        },
        "outputId": "ef9aae83-8aa9-4a46-dff2-bdc300e48c2c"
      },
      "source": [
        "size = filtered_df.shape[0]/5\n",
        "size = round(size)\n",
        "size"
      ],
      "execution_count": null,
      "outputs": [
        {
          "output_type": "execute_result",
          "data": {
            "text/plain": [
              "805"
            ]
          },
          "metadata": {
            "tags": []
          },
          "execution_count": 64
        }
      ]
    },
    {
      "cell_type": "code",
      "metadata": {
        "id": "-JFavJVD6jJU",
        "colab": {
          "base_uri": "https://localhost:8080/",
          "height": 238
        },
        "outputId": "3095744f-a78f-433f-8b7c-cf689bc833eb"
      },
      "source": [
        "from sklearn.utils import resample\n",
        "\n",
        "print(\"filtered_df inicial\", filtered_df.shape)\n",
        "\n",
        "print(filtered_df.classe.value_counts())\n",
        "\n",
        "df_C = filtered_df[filtered_df.classe==\"C\"]\n",
        "df_D = filtered_df[filtered_df.classe==\"D\"]\n",
        "df_A = filtered_df[filtered_df.classe==\"A\"]\n",
        "df_B = filtered_df[filtered_df.classe==\"B\"]\n",
        "df_E = filtered_df[filtered_df.classe==\"E\"]\n",
        "\n",
        " \n",
        "# Upsample minority class\n",
        "df_C_up = resample(df_C, \n",
        "                                 replace=True,     # sample with replacement\n",
        "                                 n_samples=size,    # to match majority class\n",
        "                                 random_state=123) # reproducible results\n",
        "\n",
        "# Upsample minority class\n",
        "df_D_up = resample(df_D, \n",
        "                                 replace=True,     # sample with replacement\n",
        "                                 n_samples=size,    # to match majority class\n",
        "                                 random_state=123) # reproducible results\n",
        "\n",
        "\n",
        "\n",
        "# Combine majority class with upsampled minority class\n",
        "df_upsampled = pd.concat([ df_D_up, df_C_up, df_A, df_B, df_E])\n",
        " \n",
        "# Display new class counts\n",
        "df_upsampled.classe.value_counts()\n",
        "\n"
      ],
      "execution_count": null,
      "outputs": [
        {
          "output_type": "stream",
          "text": [
            "filtered_df inicial (4024, 56)\n",
            "E    1370\n",
            "A    1365\n",
            "B     901\n",
            "D     276\n",
            "C     112\n",
            "Name: classe, dtype: int64\n"
          ],
          "name": "stdout"
        },
        {
          "output_type": "execute_result",
          "data": {
            "text/plain": [
              "E    1370\n",
              "A    1365\n",
              "B     901\n",
              "D     805\n",
              "C     805\n",
              "Name: classe, dtype: int64"
            ]
          },
          "metadata": {
            "tags": []
          },
          "execution_count": 65
        }
      ]
    },
    {
      "cell_type": "markdown",
      "metadata": {
        "id": "jt2SRRGQreBu"
      },
      "source": [
        ""
      ]
    },
    {
      "cell_type": "code",
      "metadata": {
        "id": "g-ttwOkgrev9",
        "colab": {
          "base_uri": "https://localhost:8080/",
          "height": 238
        },
        "outputId": "10b2ac36-83f9-4552-e4d3-a3f5c250258d"
      },
      "source": [
        "size = 203\n",
        "\n",
        "print(\"filtered_df inicial\", filtered_df.shape)\n",
        "\n",
        "print(filtered_df.classe.value_counts())\n",
        "\n",
        "df_C = filtered_df[filtered_df.classe==\"C\"]\n",
        "df_D = filtered_df[filtered_df.classe==\"D\"]\n",
        "df_A = filtered_df[filtered_df.classe==\"A\"]\n",
        "df_B = filtered_df[filtered_df.classe==\"B\"]\n",
        "df_E = filtered_df[filtered_df.classe==\"E\"]\n",
        "\n",
        " \n",
        "\n",
        "df_A_down = resample(df_A, \n",
        "                                 replace=False,     \n",
        "                                 n_samples=size,    \n",
        "                                 random_state=123) # reproducible results\n",
        "\n",
        "df_B_down = resample(df_B, \n",
        "                                 replace=False,     \n",
        "                                 n_samples=size,    \n",
        "                                 random_state=123) # reproducible results\n",
        "\n",
        "df_E_down = resample(df_E, \n",
        "                                 replace=False,    \n",
        "                                 n_samples=size,    \n",
        "                                 random_state=123) # reproducible results\n",
        "\n",
        "# Combine majority class with upsampled minority class\n",
        "df_downsampled = pd.concat([ df_E_down, df_B_down, df_A_down, df_C, df_D])\n",
        " \n",
        "# Display new class counts\n",
        "df_downsampled.classe.value_counts()\n",
        "\n",
        " "
      ],
      "execution_count": null,
      "outputs": [
        {
          "output_type": "stream",
          "text": [
            "filtered_df inicial (4024, 56)\n",
            "E    1370\n",
            "A    1365\n",
            "B     901\n",
            "D     276\n",
            "C     112\n",
            "Name: classe, dtype: int64\n"
          ],
          "name": "stdout"
        },
        {
          "output_type": "execute_result",
          "data": {
            "text/plain": [
              "D    276\n",
              "E    203\n",
              "A    203\n",
              "B    203\n",
              "C    112\n",
              "Name: classe, dtype: int64"
            ]
          },
          "metadata": {
            "tags": []
          },
          "execution_count": 66
        }
      ]
    },
    {
      "cell_type": "markdown",
      "metadata": {
        "id": "gF_rHFWA6aMg"
      },
      "source": [
        "# Stratified K-Fold com dataset tratado + OverSample\n"
      ]
    },
    {
      "cell_type": "markdown",
      "metadata": {
        "id": "lTXYZ_xSgnHP"
      },
      "source": [
        "## SVM"
      ]
    },
    {
      "cell_type": "code",
      "metadata": {
        "id": "Yy7iNosqhJ9D",
        "colab": {
          "base_uri": "https://localhost:8080/",
          "height": 85
        },
        "outputId": "920160fb-28fe-4ff3-edf0-ffb68e159f1e"
      },
      "source": [
        "y = df_upsampled[[\"classe\"]].values\n",
        "X = df_upsampled.drop(['classe',],1)\n",
        "X = pd.get_dummies(X) # one hot encoding para dados nominais\n",
        "X = X.values\n",
        "\n",
        "SVM_tunning(X, y)"
      ],
      "execution_count": null,
      "outputs": [
        {
          "output_type": "stream",
          "text": [
            "Linear: 0.9989515638476553\n",
            "Poly: 0.9663544418720775\n",
            "RBF: 0.9632088610468019\n",
            "Sigmoid: 0.5395534976621726\n"
          ],
          "name": "stdout"
        }
      ]
    },
    {
      "cell_type": "markdown",
      "metadata": {
        "id": "0QA38OnWjU9O"
      },
      "source": [
        "## MLP"
      ]
    },
    {
      "cell_type": "code",
      "metadata": {
        "id": "9xGxQftPjaOV",
        "colab": {
          "base_uri": "https://localhost:8080/",
          "height": 333
        },
        "outputId": "d875f8b8-d217-46ae-80f0-87dff9c22c35"
      },
      "source": [
        "y = df_upsampled[[\"classe\"]].values\n",
        "X = df_upsampled.drop(['classe',],1)\n",
        "X = pd.get_dummies(X) # one hot encoding para dados nominais\n",
        "X = X.values\n",
        "\n",
        "MLP_tunning(X, y)"
      ],
      "execution_count": null,
      "outputs": [
        {
          "output_type": "stream",
          "text": [
            "[0.99466258 0.99885633 0.99904689 0.99857034 0.99837977]\n"
          ],
          "name": "stdout"
        },
        {
          "output_type": "error",
          "ename": "NameError",
          "evalue": "ignored",
          "traceback": [
            "\u001b[0;31m---------------------------------------------------------------------------\u001b[0m",
            "\u001b[0;31mNameError\u001b[0m                                 Traceback (most recent call last)",
            "\u001b[0;32m<ipython-input-67-51e46ef50082>\u001b[0m in \u001b[0;36m<module>\u001b[0;34m()\u001b[0m\n\u001b[1;32m      4\u001b[0m \u001b[0mX\u001b[0m \u001b[0;34m=\u001b[0m \u001b[0mX\u001b[0m\u001b[0;34m.\u001b[0m\u001b[0mvalues\u001b[0m\u001b[0;34m\u001b[0m\u001b[0;34m\u001b[0m\u001b[0m\n\u001b[1;32m      5\u001b[0m \u001b[0;34m\u001b[0m\u001b[0m\n\u001b[0;32m----> 6\u001b[0;31m \u001b[0mMLP_tunning\u001b[0m\u001b[0;34m(\u001b[0m\u001b[0mX\u001b[0m\u001b[0;34m,\u001b[0m \u001b[0my\u001b[0m\u001b[0;34m)\u001b[0m\u001b[0;34m\u001b[0m\u001b[0;34m\u001b[0m\u001b[0m\n\u001b[0m",
            "\u001b[0;32m<ipython-input-63-5ae4c4178e85>\u001b[0m in \u001b[0;36mMLP_tunning\u001b[0;34m(df, target)\u001b[0m\n\u001b[1;32m     35\u001b[0m         \u001b[0macur_total\u001b[0m \u001b[0;34m=\u001b[0m \u001b[0mnp\u001b[0m\u001b[0;34m.\u001b[0m\u001b[0mappend\u001b[0m\u001b[0;34m(\u001b[0m\u001b[0macur_total\u001b[0m\u001b[0;34m,\u001b[0m \u001b[0mnp\u001b[0m\u001b[0;34m.\u001b[0m\u001b[0mmean\u001b[0m\u001b[0;34m(\u001b[0m\u001b[0macur_kernel\u001b[0m\u001b[0;34m)\u001b[0m\u001b[0;34m)\u001b[0m\u001b[0;34m\u001b[0m\u001b[0;34m\u001b[0m\u001b[0m\n\u001b[1;32m     36\u001b[0m     \u001b[0mprint\u001b[0m\u001b[0;34m(\u001b[0m\u001b[0macur_total\u001b[0m\u001b[0;34m)\u001b[0m\u001b[0;34m\u001b[0m\u001b[0;34m\u001b[0m\u001b[0m\n\u001b[0;32m---> 37\u001b[0;31m     \u001b[0mprint\u001b[0m\u001b[0;34m(\u001b[0m\u001b[0;34m\"A quantidade ideal de neurônios na camada escondida é\"\u001b[0m\u001b[0;34m,\u001b[0m \u001b[0mhidden_layer\u001b[0m\u001b[0;34m[\u001b[0m\u001b[0mnp\u001b[0m\u001b[0;34m.\u001b[0m\u001b[0margmax\u001b[0m\u001b[0;34m(\u001b[0m\u001b[0macur_total\u001b[0m\u001b[0;34m)\u001b[0m\u001b[0;34m]\u001b[0m\u001b[0;34m)\u001b[0m\u001b[0;34m\u001b[0m\u001b[0;34m\u001b[0m\u001b[0m\n\u001b[0m\u001b[1;32m     38\u001b[0m \u001b[0;34m\u001b[0m\u001b[0m\n\u001b[1;32m     39\u001b[0m \u001b[0mMLP_tunning\u001b[0m\u001b[0;34m(\u001b[0m\u001b[0mX\u001b[0m\u001b[0;34m,\u001b[0m \u001b[0my\u001b[0m\u001b[0;34m)\u001b[0m\u001b[0;34m\u001b[0m\u001b[0;34m\u001b[0m\u001b[0m\n",
            "\u001b[0;31mNameError\u001b[0m: name 'hidden_layer' is not defined"
          ]
        }
      ]
    },
    {
      "cell_type": "markdown",
      "metadata": {
        "id": "oJ7qoCuqgqFj"
      },
      "source": [
        "## KNN"
      ]
    },
    {
      "cell_type": "code",
      "metadata": {
        "id": "D1uSvKM5gsri",
        "colab": {
          "base_uri": "https://localhost:8080/",
          "height": 51
        },
        "outputId": "03b751c7-ac49-4b24-8d7f-8de12b6384e2"
      },
      "source": [
        "y = df_upsampled[[\"classe\"]].values\n",
        "X = df_upsampled.drop(['classe',],1)\n",
        "X = pd.get_dummies(X) # one hot encoding para dados nominais\n",
        "X = X.values\n",
        "\n",
        "KNN_tunning(X, y)"
      ],
      "execution_count": null,
      "outputs": [
        {
          "output_type": "stream",
          "text": [
            "K=3: 0.995234736029779\n",
            "Acur_total [0.99523474 0.98770539 0.97855509]\n"
          ],
          "name": "stdout"
        }
      ]
    },
    {
      "cell_type": "markdown",
      "metadata": {
        "id": "HF_d_tSQgtMh"
      },
      "source": [
        "## Árvore de Decisão"
      ]
    },
    {
      "cell_type": "code",
      "metadata": {
        "id": "R_v6jCP86jfE",
        "colab": {
          "base_uri": "https://localhost:8080/",
          "height": 68
        },
        "outputId": "adef7f6c-a5c1-4e5f-9791-cec6e60dcb5c"
      },
      "source": [
        "y = df_upsampled[[\"classe\"]].values\n",
        "X = df_upsampled.drop(['classe',],1)\n",
        "X = pd.get_dummies(X) # one hot encoding para dados nominais\n",
        "X = X.values\n",
        "\n",
        "Tree_tunning(X, y)"
      ],
      "execution_count": null,
      "outputs": [
        {
          "output_type": "stream",
          "text": [
            "n_estimators = 10: 1.0\n",
            "n_estimators = 20: 1.0\n",
            "n_estimators = 30: 1.0\n"
          ],
          "name": "stdout"
        }
      ]
    },
    {
      "cell_type": "markdown",
      "metadata": {
        "id": "fTqwTGsIayqv"
      },
      "source": [
        "## Random Forest"
      ]
    },
    {
      "cell_type": "code",
      "metadata": {
        "id": "rvJSWTVlhIWV",
        "colab": {
          "base_uri": "https://localhost:8080/",
          "height": 34
        },
        "outputId": "bfb69402-010f-49d7-90e2-6ddbe0ee34fa"
      },
      "source": [
        "y = df_upsampled[[\"classe\"]].values\n",
        "X = df_upsampled.drop(['classe',],1)\n",
        "X = pd.get_dummies(X) # one hot encoding para dados nominais\n",
        "X = X.values\n",
        "\n",
        "Ensemble_tunning(X, y)"
      ],
      "execution_count": null,
      "outputs": [
        {
          "output_type": "stream",
          "text": [
            "Acuracia total: [0.99837959 0.9993327  0.9993327 ]\n"
          ],
          "name": "stdout"
        }
      ]
    },
    {
      "cell_type": "markdown",
      "metadata": {
        "id": "-jvnNOSerGa2"
      },
      "source": [
        "# Stratified K-Fold com dataset tratado + Undersample"
      ]
    },
    {
      "cell_type": "markdown",
      "metadata": {
        "id": "hgH7fmlWgzrb"
      },
      "source": [
        "## SVM"
      ]
    },
    {
      "cell_type": "code",
      "metadata": {
        "id": "d8h265alg2VA",
        "colab": {
          "base_uri": "https://localhost:8080/",
          "height": 85
        },
        "outputId": "6cc717fa-f058-48eb-b185-6d3265f1f0bb"
      },
      "source": [
        "y = df_downsampled[[\"classe\"]].values\n",
        "X = df_downsampled.drop(['classe',],1)\n",
        "X = pd.get_dummies(X) # one hot encoding para dados nominais\n",
        "X = X.values\n",
        "SVM_tunning(X, y)\n"
      ],
      "execution_count": null,
      "outputs": [
        {
          "output_type": "stream",
          "text": [
            "Linear: 0.987464824120603\n",
            "Poly: 0.9372914572864322\n",
            "RBF: 0.9182437185929647\n",
            "Sigmoid: 0.6479623115577889\n"
          ],
          "name": "stdout"
        }
      ]
    },
    {
      "cell_type": "markdown",
      "metadata": {
        "id": "mdC92NWIky1Q"
      },
      "source": [
        "## MLP"
      ]
    },
    {
      "cell_type": "code",
      "metadata": {
        "id": "4JE4bSw4k3ZC",
        "colab": {
          "base_uri": "https://localhost:8080/",
          "height": 51
        },
        "outputId": "a1c1b96d-f552-4781-832f-4394bf2a9c35"
      },
      "source": [
        "y = df_downsampled[[\"classe\"]].values\n",
        "X = df_downsampled.drop(['classe',],1)\n",
        "X = pd.get_dummies(X) # one hot encoding para dados nominais\n",
        "X = X.values\n",
        "\n",
        "MLP_tunning(X, y)"
      ],
      "execution_count": null,
      "outputs": [
        {
          "output_type": "stream",
          "text": [
            "[0.9844397]\n",
            "A quantidade ideal de neurônios na camada escondida é 50\n"
          ],
          "name": "stdout"
        }
      ]
    },
    {
      "cell_type": "markdown",
      "metadata": {
        "id": "NvJVho8IbPdR"
      },
      "source": [
        "## KNN"
      ]
    },
    {
      "cell_type": "code",
      "metadata": {
        "id": "qjKVvJB3rLgc",
        "colab": {
          "base_uri": "https://localhost:8080/",
          "height": 51
        },
        "outputId": "004ce575-8054-4c28-f222-3ec33a7f6712"
      },
      "source": [
        "y = df_downsampled[[\"classe\"]].values\n",
        "X = df_downsampled.drop(['classe',],1)\n",
        "X = pd.get_dummies(X) # one hot encoding para dados nominais\n",
        "X = X.values\n",
        "\n",
        "KNN_tunning(X, y)"
      ],
      "execution_count": null,
      "outputs": [
        {
          "output_type": "stream",
          "text": [
            "K=3: 0.9418241206030149\n",
            "Acur_total [0.94182412 0.91875126 0.90522111]\n"
          ],
          "name": "stdout"
        }
      ]
    },
    {
      "cell_type": "markdown",
      "metadata": {
        "id": "-rjIMv9RbSH0"
      },
      "source": [
        "## Árvore de Decisão"
      ]
    },
    {
      "cell_type": "code",
      "metadata": {
        "id": "UFVElF5Wg3rb",
        "colab": {
          "base_uri": "https://localhost:8080/",
          "height": 68
        },
        "outputId": "4f03cb06-3ade-468e-b067-8125f282ba9c"
      },
      "source": [
        "y = df_downsampled[[\"classe\"]].values\n",
        "X = df_downsampled.drop(['classe',],1)\n",
        "X = pd.get_dummies(X) # one hot encoding para dados nominais\n",
        "X = X.values\n",
        "\n",
        "Tree_tunning(X, y)"
      ],
      "execution_count": null,
      "outputs": [
        {
          "output_type": "stream",
          "text": [
            "n_estimators = 10: 0.9894773869346732\n",
            "n_estimators = 20: 0.9954824120603016\n",
            "n_estimators = 30: 0.9969874371859297\n"
          ],
          "name": "stdout"
        }
      ]
    },
    {
      "cell_type": "markdown",
      "metadata": {
        "id": "8nBaR501bVTq"
      },
      "source": [
        "## Random Forest"
      ]
    },
    {
      "cell_type": "code",
      "metadata": {
        "id": "A01BqAmWg4b5",
        "colab": {
          "base_uri": "https://localhost:8080/",
          "height": 34
        },
        "outputId": "abc5edbf-72e3-46f6-83f8-2e193212cf2f"
      },
      "source": [
        "y = df_downsampled[[\"classe\"]].values\n",
        "X = df_downsampled.drop(['classe',],1)\n",
        "X = pd.get_dummies(X) # one hot encoding para dados nominais\n",
        "X = X.values\n",
        "\n",
        "Ensemble_tunning(X, y)"
      ],
      "execution_count": null,
      "outputs": [
        {
          "output_type": "stream",
          "text": [
            "Acuracia total: [0.98544724 0.9934799  0.99548492]\n"
          ],
          "name": "stdout"
        }
      ]
    },
    {
      "cell_type": "code",
      "metadata": {
        "id": "ySimlvXCWOKZ"
      },
      "source": [
        ""
      ],
      "execution_count": null,
      "outputs": []
    }
  ]
}